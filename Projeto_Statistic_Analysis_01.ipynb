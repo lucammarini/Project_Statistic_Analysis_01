{
  "nbformat": 4,
  "nbformat_minor": 0,
  "metadata": {
    "colab": {
      "name": "Projeto_Statistic_Analysis_01",
      "provenance": []
    },
    "kernelspec": {
      "name": "python3",
      "display_name": "Python 3"
    },
    "language_info": {
      "name": "python"
    }
  },
  "cells": [
    {
      "cell_type": "markdown",
      "source": [
        "# **PROJETO - ANÁLISE ESTATÍSTICA DE EXPECTATIVA DE VIDA**\n",
        "\n",
        "FONTE: https://databank.worldbank.org/indicator/SP.DYN.LE00.IN/1ff4a498/Popular-Indicators#"
      ],
      "metadata": {
        "id": "3MmbzUXltwHU"
      }
    },
    {
      "cell_type": "markdown",
      "source": [
        "## **CONECTAR COM O GOOGLE DRIVE PARA CAPTAR OS BANCOS DE DADOS**"
      ],
      "metadata": {
        "id": "KfoMUJCzt2MZ"
      }
    },
    {
      "cell_type": "code",
      "execution_count": 1,
      "metadata": {
        "colab": {
          "base_uri": "https://localhost:8080/"
        },
        "id": "7DZiBqFntVn_",
        "outputId": "b93928b2-db37-40a3-d48e-3c4221382720"
      },
      "outputs": [
        {
          "output_type": "stream",
          "name": "stdout",
          "text": [
            "Mounted at /content/drive\n"
          ]
        }
      ],
      "source": [
        "# conecta o colab ao google drive\n",
        "\n",
        "from google.colab import drive\n",
        "drive.mount('/content/drive')"
      ]
    },
    {
      "cell_type": "markdown",
      "source": [
        "## **IMPORTS DE BIBLIOTECAS**"
      ],
      "metadata": {
        "id": "16m1BcVAt-4R"
      }
    },
    {
      "cell_type": "markdown",
      "source": [
        "###BIBLIOTECA DE ANÁLISE DE TEMPO DE EXECUÇÃO DO SCRIPT"
      ],
      "metadata": {
        "id": "bfQsYW81uZau"
      }
    },
    {
      "cell_type": "code",
      "source": [
        "# Cronometra o tempo de execução do programa\n",
        "\n",
        "import time\n",
        "start_script = time.time()"
      ],
      "metadata": {
        "id": "fjFPPKIDteA_"
      },
      "execution_count": 2,
      "outputs": []
    },
    {
      "cell_type": "markdown",
      "source": [
        "###BIBLIOTECAS RESTANTES"
      ],
      "metadata": {
        "id": "uFy_FsgzuedY"
      }
    },
    {
      "cell_type": "code",
      "source": [
        "# Importa as bibliotecas necessárias\n",
        "\n",
        "from datetime import datetime, date\n",
        "import pandas as pd\n",
        "import matplotlib.pyplot as plt\n",
        "from matplotlib.pyplot import figure\n",
        "import numpy as np\n",
        "from scipy.stats import normaltest\n",
        "from scipy.stats import t\n",
        "from scipy import stats\n"
      ],
      "metadata": {
        "id": "N9G8KdFTtiXo"
      },
      "execution_count": 3,
      "outputs": []
    },
    {
      "cell_type": "markdown",
      "source": [
        "##**FUNÇÕES**"
      ],
      "metadata": {
        "id": "931PQvNJxDP_"
      }
    },
    {
      "cell_type": "code",
      "source": [
        "def ler_csv(name_csv):\n",
        "  df = pd.read_csv(bd_local + '/' + name_csv, header=0, sep = ',', skiprows=0, decimal='.')\n",
        "  return df"
      ],
      "metadata": {
        "id": "2QmkukHoxFOZ"
      },
      "execution_count": 4,
      "outputs": []
    },
    {
      "cell_type": "code",
      "source": [
        "def formatar_titulo(text):\n",
        "  words = text.split(\" \")\n",
        "  total_string = \"\"\n",
        "  for counter, word in enumerate(words):\n",
        "    if counter>0 and counter % 5 == 0:\n",
        "      total_string +=\"\\n{}\".format(word)\n",
        "    else:\n",
        "      total_string +=\" {}\".format(word)\n",
        "  return total_string.lstrip()"
      ],
      "metadata": {
        "id": "_9zH4bQIxd9v"
      },
      "execution_count": 5,
      "outputs": []
    },
    {
      "cell_type": "markdown",
      "source": [
        "##**CAPTAÇÃO DE DADOS**"
      ],
      "metadata": {
        "id": "U5PqBDW8uTbv"
      }
    },
    {
      "cell_type": "code",
      "source": [
        "bd_geral = '/content/drive/MyDrive/..Python_Codes/Projeto_Statistic_Analysis_01/'\n",
        "bd_local = bd_geral + 'BD'\n",
        "df = ler_csv('d9d3ffb1-daa6-4e67-a48f-a12aa3d2c776_Data.csv')\n",
        "df.head()"
      ],
      "metadata": {
        "colab": {
          "base_uri": "https://localhost:8080/",
          "height": 354
        },
        "id": "WfYuND5UwXOy",
        "outputId": "5f81a5da-334e-4eb2-91de-089647820967"
      },
      "execution_count": 6,
      "outputs": [
        {
          "output_type": "execute_result",
          "data": {
            "text/plain": [
              "                               Series Name     Series Code    Country Name  \\\n",
              "0  Life expectancy at birth, total (years)  SP.DYN.LE00.IN     Afghanistan   \n",
              "1  Life expectancy at birth, total (years)  SP.DYN.LE00.IN         Albania   \n",
              "2  Life expectancy at birth, total (years)  SP.DYN.LE00.IN         Algeria   \n",
              "3  Life expectancy at birth, total (years)  SP.DYN.LE00.IN  American Samoa   \n",
              "4  Life expectancy at birth, total (years)  SP.DYN.LE00.IN         Andorra   \n",
              "\n",
              "  Country Code 2000 [YR2000] 2001 [YR2001] 2002 [YR2002] 2003 [YR2003]  \\\n",
              "0          AFG        55.841        56.308        56.784        57.271   \n",
              "1          ALB        73.955        74.288        74.579        74.828   \n",
              "2          DZA         70.64        71.116        71.605        72.101   \n",
              "3          ASM            ..            ..            ..            ..   \n",
              "4          AND            ..            ..            ..            ..   \n",
              "\n",
              "  2004 [YR2004] 2005 [YR2005] 2006 [YR2006] 2007 [YR2007] 2008 [YR2008]  \\\n",
              "0        57.772         58.29        58.826        59.375         59.93   \n",
              "1        75.039        75.228        75.423        75.646        75.912   \n",
              "2        72.594        73.072        73.521        73.936        74.311   \n",
              "3            ..            ..            ..            ..            ..   \n",
              "4            ..            ..            ..            ..            ..   \n",
              "\n",
              "  2009 [YR2009] 2010 [YR2010] 2011 [YR2011] 2012 [YR2012] 2013 [YR2013]  \\\n",
              "0        60.484        61.028        61.553        62.054        62.525   \n",
              "1        76.221        76.562        76.914        77.252        77.554   \n",
              "2        74.644        74.938        75.199        75.436        75.661   \n",
              "3            ..            ..            ..            ..            ..   \n",
              "4            ..            ..            ..            ..            ..   \n",
              "\n",
              "  2014 [YR2014] 2015 [YR2015]  \n",
              "0        62.966        63.377  \n",
              "1        77.813        78.025  \n",
              "2        75.878         76.09  \n",
              "3            ..            ..  \n",
              "4            ..            ..  "
            ],
            "text/html": [
              "\n",
              "  <div id=\"df-e155e1aa-2fc6-4399-84c1-87a5e7ffa9ee\">\n",
              "    <div class=\"colab-df-container\">\n",
              "      <div>\n",
              "<style scoped>\n",
              "    .dataframe tbody tr th:only-of-type {\n",
              "        vertical-align: middle;\n",
              "    }\n",
              "\n",
              "    .dataframe tbody tr th {\n",
              "        vertical-align: top;\n",
              "    }\n",
              "\n",
              "    .dataframe thead th {\n",
              "        text-align: right;\n",
              "    }\n",
              "</style>\n",
              "<table border=\"1\" class=\"dataframe\">\n",
              "  <thead>\n",
              "    <tr style=\"text-align: right;\">\n",
              "      <th></th>\n",
              "      <th>Series Name</th>\n",
              "      <th>Series Code</th>\n",
              "      <th>Country Name</th>\n",
              "      <th>Country Code</th>\n",
              "      <th>2000 [YR2000]</th>\n",
              "      <th>2001 [YR2001]</th>\n",
              "      <th>2002 [YR2002]</th>\n",
              "      <th>2003 [YR2003]</th>\n",
              "      <th>2004 [YR2004]</th>\n",
              "      <th>2005 [YR2005]</th>\n",
              "      <th>2006 [YR2006]</th>\n",
              "      <th>2007 [YR2007]</th>\n",
              "      <th>2008 [YR2008]</th>\n",
              "      <th>2009 [YR2009]</th>\n",
              "      <th>2010 [YR2010]</th>\n",
              "      <th>2011 [YR2011]</th>\n",
              "      <th>2012 [YR2012]</th>\n",
              "      <th>2013 [YR2013]</th>\n",
              "      <th>2014 [YR2014]</th>\n",
              "      <th>2015 [YR2015]</th>\n",
              "    </tr>\n",
              "  </thead>\n",
              "  <tbody>\n",
              "    <tr>\n",
              "      <th>0</th>\n",
              "      <td>Life expectancy at birth, total (years)</td>\n",
              "      <td>SP.DYN.LE00.IN</td>\n",
              "      <td>Afghanistan</td>\n",
              "      <td>AFG</td>\n",
              "      <td>55.841</td>\n",
              "      <td>56.308</td>\n",
              "      <td>56.784</td>\n",
              "      <td>57.271</td>\n",
              "      <td>57.772</td>\n",
              "      <td>58.29</td>\n",
              "      <td>58.826</td>\n",
              "      <td>59.375</td>\n",
              "      <td>59.93</td>\n",
              "      <td>60.484</td>\n",
              "      <td>61.028</td>\n",
              "      <td>61.553</td>\n",
              "      <td>62.054</td>\n",
              "      <td>62.525</td>\n",
              "      <td>62.966</td>\n",
              "      <td>63.377</td>\n",
              "    </tr>\n",
              "    <tr>\n",
              "      <th>1</th>\n",
              "      <td>Life expectancy at birth, total (years)</td>\n",
              "      <td>SP.DYN.LE00.IN</td>\n",
              "      <td>Albania</td>\n",
              "      <td>ALB</td>\n",
              "      <td>73.955</td>\n",
              "      <td>74.288</td>\n",
              "      <td>74.579</td>\n",
              "      <td>74.828</td>\n",
              "      <td>75.039</td>\n",
              "      <td>75.228</td>\n",
              "      <td>75.423</td>\n",
              "      <td>75.646</td>\n",
              "      <td>75.912</td>\n",
              "      <td>76.221</td>\n",
              "      <td>76.562</td>\n",
              "      <td>76.914</td>\n",
              "      <td>77.252</td>\n",
              "      <td>77.554</td>\n",
              "      <td>77.813</td>\n",
              "      <td>78.025</td>\n",
              "    </tr>\n",
              "    <tr>\n",
              "      <th>2</th>\n",
              "      <td>Life expectancy at birth, total (years)</td>\n",
              "      <td>SP.DYN.LE00.IN</td>\n",
              "      <td>Algeria</td>\n",
              "      <td>DZA</td>\n",
              "      <td>70.64</td>\n",
              "      <td>71.116</td>\n",
              "      <td>71.605</td>\n",
              "      <td>72.101</td>\n",
              "      <td>72.594</td>\n",
              "      <td>73.072</td>\n",
              "      <td>73.521</td>\n",
              "      <td>73.936</td>\n",
              "      <td>74.311</td>\n",
              "      <td>74.644</td>\n",
              "      <td>74.938</td>\n",
              "      <td>75.199</td>\n",
              "      <td>75.436</td>\n",
              "      <td>75.661</td>\n",
              "      <td>75.878</td>\n",
              "      <td>76.09</td>\n",
              "    </tr>\n",
              "    <tr>\n",
              "      <th>3</th>\n",
              "      <td>Life expectancy at birth, total (years)</td>\n",
              "      <td>SP.DYN.LE00.IN</td>\n",
              "      <td>American Samoa</td>\n",
              "      <td>ASM</td>\n",
              "      <td>..</td>\n",
              "      <td>..</td>\n",
              "      <td>..</td>\n",
              "      <td>..</td>\n",
              "      <td>..</td>\n",
              "      <td>..</td>\n",
              "      <td>..</td>\n",
              "      <td>..</td>\n",
              "      <td>..</td>\n",
              "      <td>..</td>\n",
              "      <td>..</td>\n",
              "      <td>..</td>\n",
              "      <td>..</td>\n",
              "      <td>..</td>\n",
              "      <td>..</td>\n",
              "      <td>..</td>\n",
              "    </tr>\n",
              "    <tr>\n",
              "      <th>4</th>\n",
              "      <td>Life expectancy at birth, total (years)</td>\n",
              "      <td>SP.DYN.LE00.IN</td>\n",
              "      <td>Andorra</td>\n",
              "      <td>AND</td>\n",
              "      <td>..</td>\n",
              "      <td>..</td>\n",
              "      <td>..</td>\n",
              "      <td>..</td>\n",
              "      <td>..</td>\n",
              "      <td>..</td>\n",
              "      <td>..</td>\n",
              "      <td>..</td>\n",
              "      <td>..</td>\n",
              "      <td>..</td>\n",
              "      <td>..</td>\n",
              "      <td>..</td>\n",
              "      <td>..</td>\n",
              "      <td>..</td>\n",
              "      <td>..</td>\n",
              "      <td>..</td>\n",
              "    </tr>\n",
              "  </tbody>\n",
              "</table>\n",
              "</div>\n",
              "      <button class=\"colab-df-convert\" onclick=\"convertToInteractive('df-e155e1aa-2fc6-4399-84c1-87a5e7ffa9ee')\"\n",
              "              title=\"Convert this dataframe to an interactive table.\"\n",
              "              style=\"display:none;\">\n",
              "        \n",
              "  <svg xmlns=\"http://www.w3.org/2000/svg\" height=\"24px\"viewBox=\"0 0 24 24\"\n",
              "       width=\"24px\">\n",
              "    <path d=\"M0 0h24v24H0V0z\" fill=\"none\"/>\n",
              "    <path d=\"M18.56 5.44l.94 2.06.94-2.06 2.06-.94-2.06-.94-.94-2.06-.94 2.06-2.06.94zm-11 1L8.5 8.5l.94-2.06 2.06-.94-2.06-.94L8.5 2.5l-.94 2.06-2.06.94zm10 10l.94 2.06.94-2.06 2.06-.94-2.06-.94-.94-2.06-.94 2.06-2.06.94z\"/><path d=\"M17.41 7.96l-1.37-1.37c-.4-.4-.92-.59-1.43-.59-.52 0-1.04.2-1.43.59L10.3 9.45l-7.72 7.72c-.78.78-.78 2.05 0 2.83L4 21.41c.39.39.9.59 1.41.59.51 0 1.02-.2 1.41-.59l7.78-7.78 2.81-2.81c.8-.78.8-2.07 0-2.86zM5.41 20L4 18.59l7.72-7.72 1.47 1.35L5.41 20z\"/>\n",
              "  </svg>\n",
              "      </button>\n",
              "      \n",
              "  <style>\n",
              "    .colab-df-container {\n",
              "      display:flex;\n",
              "      flex-wrap:wrap;\n",
              "      gap: 12px;\n",
              "    }\n",
              "\n",
              "    .colab-df-convert {\n",
              "      background-color: #E8F0FE;\n",
              "      border: none;\n",
              "      border-radius: 50%;\n",
              "      cursor: pointer;\n",
              "      display: none;\n",
              "      fill: #1967D2;\n",
              "      height: 32px;\n",
              "      padding: 0 0 0 0;\n",
              "      width: 32px;\n",
              "    }\n",
              "\n",
              "    .colab-df-convert:hover {\n",
              "      background-color: #E2EBFA;\n",
              "      box-shadow: 0px 1px 2px rgba(60, 64, 67, 0.3), 0px 1px 3px 1px rgba(60, 64, 67, 0.15);\n",
              "      fill: #174EA6;\n",
              "    }\n",
              "\n",
              "    [theme=dark] .colab-df-convert {\n",
              "      background-color: #3B4455;\n",
              "      fill: #D2E3FC;\n",
              "    }\n",
              "\n",
              "    [theme=dark] .colab-df-convert:hover {\n",
              "      background-color: #434B5C;\n",
              "      box-shadow: 0px 1px 3px 1px rgba(0, 0, 0, 0.15);\n",
              "      filter: drop-shadow(0px 1px 2px rgba(0, 0, 0, 0.3));\n",
              "      fill: #FFFFFF;\n",
              "    }\n",
              "  </style>\n",
              "\n",
              "      <script>\n",
              "        const buttonEl =\n",
              "          document.querySelector('#df-e155e1aa-2fc6-4399-84c1-87a5e7ffa9ee button.colab-df-convert');\n",
              "        buttonEl.style.display =\n",
              "          google.colab.kernel.accessAllowed ? 'block' : 'none';\n",
              "\n",
              "        async function convertToInteractive(key) {\n",
              "          const element = document.querySelector('#df-e155e1aa-2fc6-4399-84c1-87a5e7ffa9ee');\n",
              "          const dataTable =\n",
              "            await google.colab.kernel.invokeFunction('convertToInteractive',\n",
              "                                                     [key], {});\n",
              "          if (!dataTable) return;\n",
              "\n",
              "          const docLinkHtml = 'Like what you see? Visit the ' +\n",
              "            '<a target=\"_blank\" href=https://colab.research.google.com/notebooks/data_table.ipynb>data table notebook</a>'\n",
              "            + ' to learn more about interactive tables.';\n",
              "          element.innerHTML = '';\n",
              "          dataTable['output_type'] = 'display_data';\n",
              "          await google.colab.output.renderOutput(dataTable, element);\n",
              "          const docLink = document.createElement('div');\n",
              "          docLink.innerHTML = docLinkHtml;\n",
              "          element.appendChild(docLink);\n",
              "        }\n",
              "      </script>\n",
              "    </div>\n",
              "  </div>\n",
              "  "
            ]
          },
          "metadata": {},
          "execution_count": 6
        }
      ]
    },
    {
      "cell_type": "markdown",
      "source": [
        "## **TRATAMENTO DE DADOS**"
      ],
      "metadata": {
        "id": "eWMvgk1GuHIN"
      }
    },
    {
      "cell_type": "code",
      "source": [
        "try:\n",
        "  df.drop('Series Name',  axis='columns', inplace=True)    # remove colunas desnecessárias\n",
        "  df.drop('Series Code',  axis='columns', inplace=True)    # remove colunas desnecessárias\n",
        "  df.drop('Country Code',  axis='columns', inplace=True)    # remove colunas desnecessárias\n",
        "except:\n",
        "  pass\n",
        "\n",
        "# transposição\n",
        "# df = df.transpose()                                       # transpõe o dataframe para facilitar a visualização\n",
        "# new_header = df.iloc[0]                                   #grab the first row for the header\n",
        "# df = df[1:]                                               #take the data less the header row\n",
        "# df.columns = new_header                                   #set the header row as the df header\n",
        "\n",
        "# renomear colunas\n",
        "df.columns = ['País', '2000', '2001', '2002', '2003', '2004', '2005', '2006', '2007', '2008', '2009', '2010', '2011', '2012', '2013', '2014', '2015']\n",
        "\n",
        "# Remove NaN:\n",
        "df.replace('..', np.nan, inplace=True)\n",
        "df = df[df['País'].notna()]\n",
        "df.drop('País',  axis='columns', inplace=True)    # remove colunas desnecessárias\n",
        "\n",
        "df"
      ],
      "metadata": {
        "colab": {
          "base_uri": "https://localhost:8080/",
          "height": 487
        },
        "id": "J0AfmPeOzVCB",
        "outputId": "ca65404d-e7d5-47b2-dd10-28da50912254"
      },
      "execution_count": 7,
      "outputs": [
        {
          "output_type": "execute_result",
          "data": {
            "text/plain": [
              "                2000              2001              2002              2003  \\\n",
              "0             55.841            56.308            56.784            57.271   \n",
              "1             73.955            74.288            74.579            74.828   \n",
              "2              70.64            71.116            71.605            72.101   \n",
              "3                NaN               NaN               NaN               NaN   \n",
              "4                NaN               NaN               NaN               NaN   \n",
              "..               ...               ...               ...               ...   \n",
              "212  76.619512195122  77.6219512195122  77.5219512195122  77.5219512195122   \n",
              "213           71.022            71.239            71.447            71.648   \n",
              "214           60.683            61.216            61.781            62.358   \n",
              "215               44            44.615              45.4            46.322   \n",
              "216           44.649             44.01            43.523            43.195   \n",
              "\n",
              "                 2004              2005              2006              2007  \\\n",
              "0              57.772             58.29            58.826            59.375   \n",
              "1              75.039            75.228            75.423            75.646   \n",
              "2              72.594            73.072            73.521            73.936   \n",
              "3                 NaN               NaN               NaN               NaN   \n",
              "4                 NaN               NaN               NaN               NaN   \n",
              "..                ...               ...               ...               ...   \n",
              "212  77.7731707317073  77.4219512195122  78.3243902439024  76.8634146341463   \n",
              "213            71.842            72.028            72.203            72.366   \n",
              "214            62.931            63.481            63.997             64.47   \n",
              "215            47.354            48.496            49.757            51.134   \n",
              "216            43.065            43.241            43.853            44.947   \n",
              "\n",
              "                 2008              2009              2010              2011  \\\n",
              "0               59.93            60.484            61.028            61.553   \n",
              "1              75.912            76.221            76.562            76.914   \n",
              "2              74.311            74.644            74.938            75.199   \n",
              "3                 NaN               NaN               NaN               NaN   \n",
              "4                 NaN               NaN               NaN               NaN   \n",
              "..                ...               ...               ...               ...   \n",
              "212  77.1634146341463  77.5146341463415  77.8658536585366  78.3170731707317   \n",
              "213            72.517            72.656            72.788            72.915   \n",
              "214            64.892            65.255            65.549            65.768   \n",
              "215            52.606             54.13            55.655            57.126   \n",
              "216            46.504            48.449             50.64            52.896   \n",
              "\n",
              "                 2012              2013              2014              2015  \n",
              "0              62.054            62.525            62.966            63.377  \n",
              "1              77.252            77.554            77.813            78.025  \n",
              "2              75.436            75.661            75.878             76.09  \n",
              "3                 NaN               NaN               NaN               NaN  \n",
              "4                 NaN               NaN               NaN               NaN  \n",
              "..                ...               ...               ...               ...  \n",
              "212  78.5170731707317  78.7170731707317  78.8682926829268  79.0170731707317  \n",
              "213            73.041             73.17            73.303            73.442  \n",
              "214             65.92            66.016            66.066            66.085  \n",
              "215            58.502            59.746            60.831            61.737  \n",
              "216            55.032            56.897             58.41            59.534  \n",
              "\n",
              "[217 rows x 16 columns]"
            ],
            "text/html": [
              "\n",
              "  <div id=\"df-ae35f4e9-3add-42cf-84f0-c6688c8d7848\">\n",
              "    <div class=\"colab-df-container\">\n",
              "      <div>\n",
              "<style scoped>\n",
              "    .dataframe tbody tr th:only-of-type {\n",
              "        vertical-align: middle;\n",
              "    }\n",
              "\n",
              "    .dataframe tbody tr th {\n",
              "        vertical-align: top;\n",
              "    }\n",
              "\n",
              "    .dataframe thead th {\n",
              "        text-align: right;\n",
              "    }\n",
              "</style>\n",
              "<table border=\"1\" class=\"dataframe\">\n",
              "  <thead>\n",
              "    <tr style=\"text-align: right;\">\n",
              "      <th></th>\n",
              "      <th>2000</th>\n",
              "      <th>2001</th>\n",
              "      <th>2002</th>\n",
              "      <th>2003</th>\n",
              "      <th>2004</th>\n",
              "      <th>2005</th>\n",
              "      <th>2006</th>\n",
              "      <th>2007</th>\n",
              "      <th>2008</th>\n",
              "      <th>2009</th>\n",
              "      <th>2010</th>\n",
              "      <th>2011</th>\n",
              "      <th>2012</th>\n",
              "      <th>2013</th>\n",
              "      <th>2014</th>\n",
              "      <th>2015</th>\n",
              "    </tr>\n",
              "  </thead>\n",
              "  <tbody>\n",
              "    <tr>\n",
              "      <th>0</th>\n",
              "      <td>55.841</td>\n",
              "      <td>56.308</td>\n",
              "      <td>56.784</td>\n",
              "      <td>57.271</td>\n",
              "      <td>57.772</td>\n",
              "      <td>58.29</td>\n",
              "      <td>58.826</td>\n",
              "      <td>59.375</td>\n",
              "      <td>59.93</td>\n",
              "      <td>60.484</td>\n",
              "      <td>61.028</td>\n",
              "      <td>61.553</td>\n",
              "      <td>62.054</td>\n",
              "      <td>62.525</td>\n",
              "      <td>62.966</td>\n",
              "      <td>63.377</td>\n",
              "    </tr>\n",
              "    <tr>\n",
              "      <th>1</th>\n",
              "      <td>73.955</td>\n",
              "      <td>74.288</td>\n",
              "      <td>74.579</td>\n",
              "      <td>74.828</td>\n",
              "      <td>75.039</td>\n",
              "      <td>75.228</td>\n",
              "      <td>75.423</td>\n",
              "      <td>75.646</td>\n",
              "      <td>75.912</td>\n",
              "      <td>76.221</td>\n",
              "      <td>76.562</td>\n",
              "      <td>76.914</td>\n",
              "      <td>77.252</td>\n",
              "      <td>77.554</td>\n",
              "      <td>77.813</td>\n",
              "      <td>78.025</td>\n",
              "    </tr>\n",
              "    <tr>\n",
              "      <th>2</th>\n",
              "      <td>70.64</td>\n",
              "      <td>71.116</td>\n",
              "      <td>71.605</td>\n",
              "      <td>72.101</td>\n",
              "      <td>72.594</td>\n",
              "      <td>73.072</td>\n",
              "      <td>73.521</td>\n",
              "      <td>73.936</td>\n",
              "      <td>74.311</td>\n",
              "      <td>74.644</td>\n",
              "      <td>74.938</td>\n",
              "      <td>75.199</td>\n",
              "      <td>75.436</td>\n",
              "      <td>75.661</td>\n",
              "      <td>75.878</td>\n",
              "      <td>76.09</td>\n",
              "    </tr>\n",
              "    <tr>\n",
              "      <th>3</th>\n",
              "      <td>NaN</td>\n",
              "      <td>NaN</td>\n",
              "      <td>NaN</td>\n",
              "      <td>NaN</td>\n",
              "      <td>NaN</td>\n",
              "      <td>NaN</td>\n",
              "      <td>NaN</td>\n",
              "      <td>NaN</td>\n",
              "      <td>NaN</td>\n",
              "      <td>NaN</td>\n",
              "      <td>NaN</td>\n",
              "      <td>NaN</td>\n",
              "      <td>NaN</td>\n",
              "      <td>NaN</td>\n",
              "      <td>NaN</td>\n",
              "      <td>NaN</td>\n",
              "    </tr>\n",
              "    <tr>\n",
              "      <th>4</th>\n",
              "      <td>NaN</td>\n",
              "      <td>NaN</td>\n",
              "      <td>NaN</td>\n",
              "      <td>NaN</td>\n",
              "      <td>NaN</td>\n",
              "      <td>NaN</td>\n",
              "      <td>NaN</td>\n",
              "      <td>NaN</td>\n",
              "      <td>NaN</td>\n",
              "      <td>NaN</td>\n",
              "      <td>NaN</td>\n",
              "      <td>NaN</td>\n",
              "      <td>NaN</td>\n",
              "      <td>NaN</td>\n",
              "      <td>NaN</td>\n",
              "      <td>NaN</td>\n",
              "    </tr>\n",
              "    <tr>\n",
              "      <th>...</th>\n",
              "      <td>...</td>\n",
              "      <td>...</td>\n",
              "      <td>...</td>\n",
              "      <td>...</td>\n",
              "      <td>...</td>\n",
              "      <td>...</td>\n",
              "      <td>...</td>\n",
              "      <td>...</td>\n",
              "      <td>...</td>\n",
              "      <td>...</td>\n",
              "      <td>...</td>\n",
              "      <td>...</td>\n",
              "      <td>...</td>\n",
              "      <td>...</td>\n",
              "      <td>...</td>\n",
              "      <td>...</td>\n",
              "    </tr>\n",
              "    <tr>\n",
              "      <th>212</th>\n",
              "      <td>76.619512195122</td>\n",
              "      <td>77.6219512195122</td>\n",
              "      <td>77.5219512195122</td>\n",
              "      <td>77.5219512195122</td>\n",
              "      <td>77.7731707317073</td>\n",
              "      <td>77.4219512195122</td>\n",
              "      <td>78.3243902439024</td>\n",
              "      <td>76.8634146341463</td>\n",
              "      <td>77.1634146341463</td>\n",
              "      <td>77.5146341463415</td>\n",
              "      <td>77.8658536585366</td>\n",
              "      <td>78.3170731707317</td>\n",
              "      <td>78.5170731707317</td>\n",
              "      <td>78.7170731707317</td>\n",
              "      <td>78.8682926829268</td>\n",
              "      <td>79.0170731707317</td>\n",
              "    </tr>\n",
              "    <tr>\n",
              "      <th>213</th>\n",
              "      <td>71.022</td>\n",
              "      <td>71.239</td>\n",
              "      <td>71.447</td>\n",
              "      <td>71.648</td>\n",
              "      <td>71.842</td>\n",
              "      <td>72.028</td>\n",
              "      <td>72.203</td>\n",
              "      <td>72.366</td>\n",
              "      <td>72.517</td>\n",
              "      <td>72.656</td>\n",
              "      <td>72.788</td>\n",
              "      <td>72.915</td>\n",
              "      <td>73.041</td>\n",
              "      <td>73.17</td>\n",
              "      <td>73.303</td>\n",
              "      <td>73.442</td>\n",
              "    </tr>\n",
              "    <tr>\n",
              "      <th>214</th>\n",
              "      <td>60.683</td>\n",
              "      <td>61.216</td>\n",
              "      <td>61.781</td>\n",
              "      <td>62.358</td>\n",
              "      <td>62.931</td>\n",
              "      <td>63.481</td>\n",
              "      <td>63.997</td>\n",
              "      <td>64.47</td>\n",
              "      <td>64.892</td>\n",
              "      <td>65.255</td>\n",
              "      <td>65.549</td>\n",
              "      <td>65.768</td>\n",
              "      <td>65.92</td>\n",
              "      <td>66.016</td>\n",
              "      <td>66.066</td>\n",
              "      <td>66.085</td>\n",
              "    </tr>\n",
              "    <tr>\n",
              "      <th>215</th>\n",
              "      <td>44</td>\n",
              "      <td>44.615</td>\n",
              "      <td>45.4</td>\n",
              "      <td>46.322</td>\n",
              "      <td>47.354</td>\n",
              "      <td>48.496</td>\n",
              "      <td>49.757</td>\n",
              "      <td>51.134</td>\n",
              "      <td>52.606</td>\n",
              "      <td>54.13</td>\n",
              "      <td>55.655</td>\n",
              "      <td>57.126</td>\n",
              "      <td>58.502</td>\n",
              "      <td>59.746</td>\n",
              "      <td>60.831</td>\n",
              "      <td>61.737</td>\n",
              "    </tr>\n",
              "    <tr>\n",
              "      <th>216</th>\n",
              "      <td>44.649</td>\n",
              "      <td>44.01</td>\n",
              "      <td>43.523</td>\n",
              "      <td>43.195</td>\n",
              "      <td>43.065</td>\n",
              "      <td>43.241</td>\n",
              "      <td>43.853</td>\n",
              "      <td>44.947</td>\n",
              "      <td>46.504</td>\n",
              "      <td>48.449</td>\n",
              "      <td>50.64</td>\n",
              "      <td>52.896</td>\n",
              "      <td>55.032</td>\n",
              "      <td>56.897</td>\n",
              "      <td>58.41</td>\n",
              "      <td>59.534</td>\n",
              "    </tr>\n",
              "  </tbody>\n",
              "</table>\n",
              "<p>217 rows × 16 columns</p>\n",
              "</div>\n",
              "      <button class=\"colab-df-convert\" onclick=\"convertToInteractive('df-ae35f4e9-3add-42cf-84f0-c6688c8d7848')\"\n",
              "              title=\"Convert this dataframe to an interactive table.\"\n",
              "              style=\"display:none;\">\n",
              "        \n",
              "  <svg xmlns=\"http://www.w3.org/2000/svg\" height=\"24px\"viewBox=\"0 0 24 24\"\n",
              "       width=\"24px\">\n",
              "    <path d=\"M0 0h24v24H0V0z\" fill=\"none\"/>\n",
              "    <path d=\"M18.56 5.44l.94 2.06.94-2.06 2.06-.94-2.06-.94-.94-2.06-.94 2.06-2.06.94zm-11 1L8.5 8.5l.94-2.06 2.06-.94-2.06-.94L8.5 2.5l-.94 2.06-2.06.94zm10 10l.94 2.06.94-2.06 2.06-.94-2.06-.94-.94-2.06-.94 2.06-2.06.94z\"/><path d=\"M17.41 7.96l-1.37-1.37c-.4-.4-.92-.59-1.43-.59-.52 0-1.04.2-1.43.59L10.3 9.45l-7.72 7.72c-.78.78-.78 2.05 0 2.83L4 21.41c.39.39.9.59 1.41.59.51 0 1.02-.2 1.41-.59l7.78-7.78 2.81-2.81c.8-.78.8-2.07 0-2.86zM5.41 20L4 18.59l7.72-7.72 1.47 1.35L5.41 20z\"/>\n",
              "  </svg>\n",
              "      </button>\n",
              "      \n",
              "  <style>\n",
              "    .colab-df-container {\n",
              "      display:flex;\n",
              "      flex-wrap:wrap;\n",
              "      gap: 12px;\n",
              "    }\n",
              "\n",
              "    .colab-df-convert {\n",
              "      background-color: #E8F0FE;\n",
              "      border: none;\n",
              "      border-radius: 50%;\n",
              "      cursor: pointer;\n",
              "      display: none;\n",
              "      fill: #1967D2;\n",
              "      height: 32px;\n",
              "      padding: 0 0 0 0;\n",
              "      width: 32px;\n",
              "    }\n",
              "\n",
              "    .colab-df-convert:hover {\n",
              "      background-color: #E2EBFA;\n",
              "      box-shadow: 0px 1px 2px rgba(60, 64, 67, 0.3), 0px 1px 3px 1px rgba(60, 64, 67, 0.15);\n",
              "      fill: #174EA6;\n",
              "    }\n",
              "\n",
              "    [theme=dark] .colab-df-convert {\n",
              "      background-color: #3B4455;\n",
              "      fill: #D2E3FC;\n",
              "    }\n",
              "\n",
              "    [theme=dark] .colab-df-convert:hover {\n",
              "      background-color: #434B5C;\n",
              "      box-shadow: 0px 1px 3px 1px rgba(0, 0, 0, 0.15);\n",
              "      filter: drop-shadow(0px 1px 2px rgba(0, 0, 0, 0.3));\n",
              "      fill: #FFFFFF;\n",
              "    }\n",
              "  </style>\n",
              "\n",
              "      <script>\n",
              "        const buttonEl =\n",
              "          document.querySelector('#df-ae35f4e9-3add-42cf-84f0-c6688c8d7848 button.colab-df-convert');\n",
              "        buttonEl.style.display =\n",
              "          google.colab.kernel.accessAllowed ? 'block' : 'none';\n",
              "\n",
              "        async function convertToInteractive(key) {\n",
              "          const element = document.querySelector('#df-ae35f4e9-3add-42cf-84f0-c6688c8d7848');\n",
              "          const dataTable =\n",
              "            await google.colab.kernel.invokeFunction('convertToInteractive',\n",
              "                                                     [key], {});\n",
              "          if (!dataTable) return;\n",
              "\n",
              "          const docLinkHtml = 'Like what you see? Visit the ' +\n",
              "            '<a target=\"_blank\" href=https://colab.research.google.com/notebooks/data_table.ipynb>data table notebook</a>'\n",
              "            + ' to learn more about interactive tables.';\n",
              "          element.innerHTML = '';\n",
              "          dataTable['output_type'] = 'display_data';\n",
              "          await google.colab.output.renderOutput(dataTable, element);\n",
              "          const docLink = document.createElement('div');\n",
              "          docLink.innerHTML = docLinkHtml;\n",
              "          element.appendChild(docLink);\n",
              "        }\n",
              "      </script>\n",
              "    </div>\n",
              "  </div>\n",
              "  "
            ]
          },
          "metadata": {},
          "execution_count": 7
        }
      ]
    },
    {
      "cell_type": "code",
      "source": [
        "# passando os valores do datafame de 'string' para 'float':\n",
        "df = df.astype(float)"
      ],
      "metadata": {
        "id": "RHFqtO_Hqy8B"
      },
      "execution_count": 8,
      "outputs": []
    },
    {
      "cell_type": "markdown",
      "source": [
        "### **REMOÇÃO DE OUTLIERS E DADOS FORA DA CURVA**"
      ],
      "metadata": {
        "id": "57wo5VxdA5Dp"
      }
    },
    {
      "cell_type": "code",
      "source": [
        "# AINDA NÃO PROJETADO"
      ],
      "metadata": {
        "id": "uZ44jaMKA7HX"
      },
      "execution_count": 9,
      "outputs": []
    },
    {
      "cell_type": "markdown",
      "source": [
        "### RESUMO"
      ],
      "metadata": {
        "id": "qb7uhLOpCCXH"
      }
    },
    {
      "cell_type": "code",
      "source": [
        "# criação de dataframe de resumo dos dados:\n",
        "lista_index = list(range(2000,2015+1))\n",
        "lista_media = []\n",
        "lista_dp = []\n",
        "lista_num_amostras = []\n",
        "\n",
        "for n in range(0, len(df.columns)):\n",
        "  lista_media.append(df[df.columns[n]].mean())\n",
        "  lista_dp.append(df[df.columns[n]].std())\n",
        "  lista_num_amostras.append(df[df.columns[n]].count())\n",
        "\n",
        "df_resumo = pd.DataFrame({'Ano': lista_index, \n",
        "                         'Média':lista_media, \n",
        "                         'Desvio Padrão': lista_dp,\n",
        "                          'Amostras': lista_num_amostras})\n",
        "\n",
        "df_resumo[\"Variabilidade (%)\"] = 100*df_resumo['Desvio Padrão']/df_resumo['Média']"
      ],
      "metadata": {
        "id": "gqbd4G6L48rC"
      },
      "execution_count": 10,
      "outputs": []
    },
    {
      "cell_type": "markdown",
      "source": [
        "### TESTE DE NORMALIDADE"
      ],
      "metadata": {
        "id": "UFDaSoZ0QVjd"
      }
    },
    {
      "cell_type": "code",
      "source": [
        "significancia = 0.05  # 95% de confiabilidade\n",
        "lista_pvalor = []\n",
        "lista_pvalor_bool = []\n",
        "\n",
        "for n in df.columns:\n",
        "  pvalor = normaltest(df[n].dropna())[1] # retorna a estatistica de teste e o p-valor (precisa remover os NaN)\n",
        "  lista_pvalor.append(pvalor)\n",
        "  if pvalor > significancia:\n",
        "    lista_pvalor_bool.append('Sim')\n",
        "  else:\n",
        "    lista_pvalor_bool.append('Não')\n",
        "\n",
        "df_resumo['p-Valor (normal test)'] = lista_pvalor\n",
        "df_resumo['É Normal? (95% signif.)'] = lista_pvalor_bool\n",
        "# df_resumo"
      ],
      "metadata": {
        "id": "8yIlMF7zQcZK"
      },
      "execution_count": 11,
      "outputs": []
    },
    {
      "cell_type": "markdown",
      "source": [
        "### T-STUDENT"
      ],
      "metadata": {
        "id": "EkC6EYV8ZDwz"
      }
    },
    {
      "cell_type": "code",
      "source": [
        "lista_tstudent = ['-']\n",
        "lista_tcrit_2caudas = ['-']\n",
        "lista_p_2caudas = ['-']\n",
        "lista_tstudent_bool = ['-']\n",
        "\n",
        "for n in range(1, len(df_resumo.index)):\n",
        "  t = abs(df_resumo['Média'][n] - df_resumo['Média'][n-1]) / ((df_resumo['Desvio Padrão'][n]/df_resumo['Amostras'][n] + df_resumo['Desvio Padrão'][n-1]/df_resumo['Amostras'][n-1]) ** 0.5)\n",
        "\n",
        "  lista_tstudent.append(t) # valor t\n",
        "  lista_tcrit_2caudas.append(stats.t.ppf(q=0.975, df=12)) # t critico pra curva de 2 caudas\n",
        "  pvalor = 2*(1-stats.t.cdf(x=t, df=12))  # p pra curva de 2 caudas\n",
        "  lista_p_2caudas.append(pvalor) \n",
        "  if pvalor > significancia:\n",
        "    lista_tstudent_bool.append('Não')\n",
        "  else:\n",
        "    lista_tstudent_bool.append('Sim')\n",
        "\n",
        "\n",
        "df_resumo['Valor t'] = lista_tstudent\n",
        "df_resumo['Valor t-crít'] = lista_tcrit_2caudas\n",
        "df_resumo['Valor p (Comparação)'] = lista_p_2caudas\n",
        "df_resumo['Expectativa de Vida Mudou? (95% signif.)'] = lista_tstudent_bool"
      ],
      "metadata": {
        "id": "1YVsfrFLZGo8"
      },
      "execution_count": 12,
      "outputs": []
    },
    {
      "cell_type": "markdown",
      "source": [
        "### TESTE F"
      ],
      "metadata": {
        "id": "uKoxpRGGQclP"
      }
    },
    {
      "cell_type": "code",
      "source": [
        "# AINDA NÃO FOI PROJETADO"
      ],
      "metadata": {
        "id": "cD0feXTywXpU"
      },
      "execution_count": 13,
      "outputs": []
    },
    {
      "cell_type": "markdown",
      "source": [
        "##**RESULTADOS**"
      ],
      "metadata": {
        "id": "vOheQ4eCweED"
      }
    },
    {
      "cell_type": "markdown",
      "source": [
        "###**GERAÇÃO DE GRÁFICOS**\n"
      ],
      "metadata": {
        "id": "b-jCE1FcuKdy"
      }
    },
    {
      "cell_type": "code",
      "source": [
        "for i in df.columns:\n",
        "  if i == 'País':\n",
        "    pass\n",
        "  else:\n",
        "    fig, ax = plt.subplots()\n",
        "    ax.hist(df[i], bins=30, density=True, color='gray',histtype = 'bar',range = (40, 90))\n",
        "\n",
        "    ax.set_title(\"Expectativa de Vida Mundial Média - Ano de \" + str(i))\n",
        "    ax.set_ylabel('Densidade de Probabilidade')\n",
        "    ax.set_xlabel('Idade')\n",
        "    fig.savefig(bd_geral + \"Imagens/histograma_expectativa_de_vida_anos_\" + str(i) + \".png\", dpi=300)  "
      ],
      "metadata": {
        "colab": {
          "base_uri": "https://localhost:8080/",
          "height": 1000
        },
        "id": "jIxiUVVDwYLK",
        "outputId": "dec56111-b54b-4831-b00c-ce2891ff074c"
      },
      "execution_count": 14,
      "outputs": [
        {
          "output_type": "display_data",
          "data": {
            "text/plain": [
              "<Figure size 432x288 with 1 Axes>"
            ],
            "image/png": "[encoded data removed]"
          },
          "metadata": {
            "needs_background": "light"
          }
        },
        {
          "output_type": "display_data",
          "data": {
            "text/plain": [
              "<Figure size 432x288 with 1 Axes>"
            ],
            "image/png": "[encoded data removed]"
          },
          "metadata": {
            "needs_background": "light"
          }
        },
        {
          "output_type": "display_data",
          "data": {
            "text/plain": [
              "<Figure size 432x288 with 1 Axes>"
            ],
            "image/png": "[encoded data removed]"
          },
          "metadata": {
            "needs_background": "light"
          }
        },
        {
          "output_type": "display_data",
          "data": {
            "text/plain": [
              "<Figure size 432x288 with 1 Axes>"
            ],
            "image/png": "[encoded data removed]"
          },
          "metadata": {
            "needs_background": "light"
          }
        },
        {
          "output_type": "display_data",
          "data": {
            "text/plain": [
              "<Figure size 432x288 with 1 Axes>"
            ],
            "image/png": "[encoded data removed]"
          },
          "metadata": {
            "needs_background": "light"
          }
        },
        {
          "output_type": "display_data",
          "data": {
            "text/plain": [
              "<Figure size 432x288 with 1 Axes>"
            ],
            "image/png": "[encoded data removed]"
          },
          "metadata": {
            "needs_background": "light"
          }
        },
        {
          "output_type": "display_data",
          "data": {
            "text/plain": [
              "<Figure size 432x288 with 1 Axes>"
            ],
            "image/png": "[encoded data removed]"
          },
          "metadata": {
            "needs_background": "light"
          }
        },
        {
          "output_type": "display_data",
          "data": {
            "text/plain": [
              "<Figure size 432x288 with 1 Axes>"
            ],
            "image/png": "[encoded data removed]"
          },
          "metadata": {
            "needs_background": "light"
          }
        },
        {
          "output_type": "display_data",
          "data": {
            "text/plain": [
              "<Figure size 432x288 with 1 Axes>"
            ],
            "image/png": "[encoded data removed]"
          },
          "metadata": {
            "needs_background": "light"
          }
        },
        {
          "output_type": "display_data",
          "data": {
            "text/plain": [
              "<Figure size 432x288 with 1 Axes>"
            ],
            "image/png": "[encoded data removed]"
          },
          "metadata": {
            "needs_background": "light"
          }
        },
        {
          "output_type": "display_data",
          "data": {
            "text/plain": [
              "<Figure size 432x288 with 1 Axes>"
            ],
            "image/png": "[encoded data removed]"
          },
          "metadata": {
            "needs_background": "light"
          }
        },
        {
          "output_type": "display_data",
          "data": {
            "text/plain": [
              "<Figure size 432x288 with 1 Axes>"
            ],
            "image/png": "[encoded data removed]"
          },
          "metadata": {
            "needs_background": "light"
          }
        },
        {
          "output_type": "display_data",
          "data": {
            "text/plain": [
              "<Figure size 432x288 with 1 Axes>"
            ],
            "image/png": "[encoded data removed]"
          },
          "metadata": {
            "needs_background": "light"
          }
        },
        {
          "output_type": "display_data",
          "data": {
            "text/plain": [
              "<Figure size 432x288 with 1 Axes>"
            ],
            "image/png": "[encoded data removed]"
          },
          "metadata": {
            "needs_background": "light"
          }
        },
        {
          "output_type": "display_data",
          "data": {
            "text/plain": [
              "<Figure size 432x288 with 1 Axes>"
            ],
            "image/png": "[encoded data removed]"
          },
          "metadata": {
            "needs_background": "light"
          }
        },
        {
          "output_type": "display_data",
          "data": {
            "text/plain": [
              "<Figure size 432x288 with 1 Axes>"
            ],
            "image/png": "[encoded data removed]"
          },
          "metadata": {
            "needs_background": "light"
          }
        }
      ]
    },
    {
      "cell_type": "markdown",
      "source": [
        "###**GERAÇÃO DE TABELAS**"
      ],
      "metadata": {
        "id": "pMo7NQ0auNRr"
      }
    },
    {
      "cell_type": "code",
      "source": [
        "df_resumo"
      ],
      "metadata": {
        "colab": {
          "base_uri": "https://localhost:8080/",
          "height": 551
        },
        "id": "I-PJBpPctnMZ",
        "outputId": "0757ea7f-e093-4fdb-df15-4fb71cc1580c"
      },
      "execution_count": 15,
      "outputs": [
        {
          "output_type": "execute_result",
          "data": {
            "text/plain": [
              "     Ano      Média  Desvio Padrão  Amostras  Variabilidade (%)  \\\n",
              "0   2000  67.005693      10.091237       201          15.060269   \n",
              "1   2001  67.298502      10.174293       199          15.118157   \n",
              "2   2002  67.657505      10.092499       202          14.917042   \n",
              "3   2003  67.828434      10.042258       199          14.805381   \n",
              "4   2004  68.205597       9.998906       199          14.659949   \n",
              "5   2005  68.500380       9.816476       200          14.330543   \n",
              "6   2006  68.887950       9.671922       200          14.040078   \n",
              "7   2007  69.264434       9.446060       201          13.637677   \n",
              "8   2008  69.649938       9.241530       201          13.268541   \n",
              "9   2009  70.039018       9.020295       201          12.878957   \n",
              "10  2010  70.410467       8.851010       200          12.570589   \n",
              "11  2011  70.771789       8.644403       200          12.214476   \n",
              "12  2012  71.123514       8.404890       201          11.817316   \n",
              "13  2013  71.450914       8.235337       200          11.525867   \n",
              "14  2014  71.804742       8.073403       201          11.243552   \n",
              "15  2015  72.045503       7.866615       201          10.918954   \n",
              "\n",
              "    p-Valor (normal test) É Normal? (95% signif.)   Valor t Valor t-crít  \\\n",
              "0                0.000039                     Não         -            -   \n",
              "1                0.000042                     Não  0.919837     2.178813   \n",
              "2                0.000035                     Não   1.12913     2.178813   \n",
              "3                0.000048                     Não  0.539377     2.178813   \n",
              "4                0.000064                     Não  1.188485     2.178813   \n",
              "5                0.000067                     Não  0.935334     2.178813   \n",
              "6                0.000078                     Não  1.241586     2.178813   \n",
              "7                0.000075                     Não    1.2192     2.178813   \n",
              "8                0.000096                     Não  1.264302     2.178813   \n",
              "9                0.000117                     Não  1.290816     2.178813   \n",
              "10               0.000236                     Não  1.244177     2.178813   \n",
              "11               0.000365                     Não  1.221653     2.178813   \n",
              "12               0.000433                     Não   1.20614     2.178813   \n",
              "13               0.000646                     Não  1.136478     2.178813   \n",
              "14               0.000912                     Não    1.2406     2.178813   \n",
              "15               0.000948                     Não  0.854948     2.178813   \n",
              "\n",
              "   Valor p (Comparação) Expectativa de Vida Mudou? (95% signif.)  \n",
              "0                     -                                        -  \n",
              "1              0.375779                                      Não  \n",
              "2               0.28091                                      Não  \n",
              "3              0.599492                                      Não  \n",
              "4              0.257631                                      Não  \n",
              "5              0.368058                                      Não  \n",
              "6               0.23811                                      Não  \n",
              "7              0.246192                                      Não  \n",
              "8              0.230127                                      Não  \n",
              "9              0.221082                                      Não  \n",
              "10             0.237189                                      Não  \n",
              "11             0.245296                                      Não  \n",
              "12             0.251006                                      Não  \n",
              "13             0.277943                                      Não  \n",
              "14             0.238462                                      Não  \n",
              "15             0.409325                                      Não  "
            ],
            "text/html": [
              "\n",
              "  <div id=\"df-c38333e4-1c8a-4940-a503-aaca62208082\">\n",
              "    <div class=\"colab-df-container\">\n",
              "      <div>\n",
              "<style scoped>\n",
              "    .dataframe tbody tr th:only-of-type {\n",
              "        vertical-align: middle;\n",
              "    }\n",
              "\n",
              "    .dataframe tbody tr th {\n",
              "        vertical-align: top;\n",
              "    }\n",
              "\n",
              "    .dataframe thead th {\n",
              "        text-align: right;\n",
              "    }\n",
              "</style>\n",
              "<table border=\"1\" class=\"dataframe\">\n",
              "  <thead>\n",
              "    <tr style=\"text-align: right;\">\n",
              "      <th></th>\n",
              "      <th>Ano</th>\n",
              "      <th>Média</th>\n",
              "      <th>Desvio Padrão</th>\n",
              "      <th>Amostras</th>\n",
              "      <th>Variabilidade (%)</th>\n",
              "      <th>p-Valor (normal test)</th>\n",
              "      <th>É Normal? (95% signif.)</th>\n",
              "      <th>Valor t</th>\n",
              "      <th>Valor t-crít</th>\n",
              "      <th>Valor p (Comparação)</th>\n",
              "      <th>Expectativa de Vida Mudou? (95% signif.)</th>\n",
              "    </tr>\n",
              "  </thead>\n",
              "  <tbody>\n",
              "    <tr>\n",
              "      <th>0</th>\n",
              "      <td>2000</td>\n",
              "      <td>67.005693</td>\n",
              "      <td>10.091237</td>\n",
              "      <td>201</td>\n",
              "      <td>15.060269</td>\n",
              "      <td>0.000039</td>\n",
              "      <td>Não</td>\n",
              "      <td>-</td>\n",
              "      <td>-</td>\n",
              "      <td>-</td>\n",
              "      <td>-</td>\n",
              "    </tr>\n",
              "    <tr>\n",
              "      <th>1</th>\n",
              "      <td>2001</td>\n",
              "      <td>67.298502</td>\n",
              "      <td>10.174293</td>\n",
              "      <td>199</td>\n",
              "      <td>15.118157</td>\n",
              "      <td>0.000042</td>\n",
              "      <td>Não</td>\n",
              "      <td>0.919837</td>\n",
              "      <td>2.178813</td>\n",
              "      <td>0.375779</td>\n",
              "      <td>Não</td>\n",
              "    </tr>\n",
              "    <tr>\n",
              "      <th>2</th>\n",
              "      <td>2002</td>\n",
              "      <td>67.657505</td>\n",
              "      <td>10.092499</td>\n",
              "      <td>202</td>\n",
              "      <td>14.917042</td>\n",
              "      <td>0.000035</td>\n",
              "      <td>Não</td>\n",
              "      <td>1.12913</td>\n",
              "      <td>2.178813</td>\n",
              "      <td>0.28091</td>\n",
              "      <td>Não</td>\n",
              "    </tr>\n",
              "    <tr>\n",
              "      <th>3</th>\n",
              "      <td>2003</td>\n",
              "      <td>67.828434</td>\n",
              "      <td>10.042258</td>\n",
              "      <td>199</td>\n",
              "      <td>14.805381</td>\n",
              "      <td>0.000048</td>\n",
              "      <td>Não</td>\n",
              "      <td>0.539377</td>\n",
              "      <td>2.178813</td>\n",
              "      <td>0.599492</td>\n",
              "      <td>Não</td>\n",
              "    </tr>\n",
              "    <tr>\n",
              "      <th>4</th>\n",
              "      <td>2004</td>\n",
              "      <td>68.205597</td>\n",
              "      <td>9.998906</td>\n",
              "      <td>199</td>\n",
              "      <td>14.659949</td>\n",
              "      <td>0.000064</td>\n",
              "      <td>Não</td>\n",
              "      <td>1.188485</td>\n",
              "      <td>2.178813</td>\n",
              "      <td>0.257631</td>\n",
              "      <td>Não</td>\n",
              "    </tr>\n",
              "    <tr>\n",
              "      <th>5</th>\n",
              "      <td>2005</td>\n",
              "      <td>68.500380</td>\n",
              "      <td>9.816476</td>\n",
              "      <td>200</td>\n",
              "      <td>14.330543</td>\n",
              "      <td>0.000067</td>\n",
              "      <td>Não</td>\n",
              "      <td>0.935334</td>\n",
              "      <td>2.178813</td>\n",
              "      <td>0.368058</td>\n",
              "      <td>Não</td>\n",
              "    </tr>\n",
              "    <tr>\n",
              "      <th>6</th>\n",
              "      <td>2006</td>\n",
              "      <td>68.887950</td>\n",
              "      <td>9.671922</td>\n",
              "      <td>200</td>\n",
              "      <td>14.040078</td>\n",
              "      <td>0.000078</td>\n",
              "      <td>Não</td>\n",
              "      <td>1.241586</td>\n",
              "      <td>2.178813</td>\n",
              "      <td>0.23811</td>\n",
              "      <td>Não</td>\n",
              "    </tr>\n",
              "    <tr>\n",
              "      <th>7</th>\n",
              "      <td>2007</td>\n",
              "      <td>69.264434</td>\n",
              "      <td>9.446060</td>\n",
              "      <td>201</td>\n",
              "      <td>13.637677</td>\n",
              "      <td>0.000075</td>\n",
              "      <td>Não</td>\n",
              "      <td>1.2192</td>\n",
              "      <td>2.178813</td>\n",
              "      <td>0.246192</td>\n",
              "      <td>Não</td>\n",
              "    </tr>\n",
              "    <tr>\n",
              "      <th>8</th>\n",
              "      <td>2008</td>\n",
              "      <td>69.649938</td>\n",
              "      <td>9.241530</td>\n",
              "      <td>201</td>\n",
              "      <td>13.268541</td>\n",
              "      <td>0.000096</td>\n",
              "      <td>Não</td>\n",
              "      <td>1.264302</td>\n",
              "      <td>2.178813</td>\n",
              "      <td>0.230127</td>\n",
              "      <td>Não</td>\n",
              "    </tr>\n",
              "    <tr>\n",
              "      <th>9</th>\n",
              "      <td>2009</td>\n",
              "      <td>70.039018</td>\n",
              "      <td>9.020295</td>\n",
              "      <td>201</td>\n",
              "      <td>12.878957</td>\n",
              "      <td>0.000117</td>\n",
              "      <td>Não</td>\n",
              "      <td>1.290816</td>\n",
              "      <td>2.178813</td>\n",
              "      <td>0.221082</td>\n",
              "      <td>Não</td>\n",
              "    </tr>\n",
              "    <tr>\n",
              "      <th>10</th>\n",
              "      <td>2010</td>\n",
              "      <td>70.410467</td>\n",
              "      <td>8.851010</td>\n",
              "      <td>200</td>\n",
              "      <td>12.570589</td>\n",
              "      <td>0.000236</td>\n",
              "      <td>Não</td>\n",
              "      <td>1.244177</td>\n",
              "      <td>2.178813</td>\n",
              "      <td>0.237189</td>\n",
              "      <td>Não</td>\n",
              "    </tr>\n",
              "    <tr>\n",
              "      <th>11</th>\n",
              "      <td>2011</td>\n",
              "      <td>70.771789</td>\n",
              "      <td>8.644403</td>\n",
              "      <td>200</td>\n",
              "      <td>12.214476</td>\n",
              "      <td>0.000365</td>\n",
              "      <td>Não</td>\n",
              "      <td>1.221653</td>\n",
              "      <td>2.178813</td>\n",
              "      <td>0.245296</td>\n",
              "      <td>Não</td>\n",
              "    </tr>\n",
              "    <tr>\n",
              "      <th>12</th>\n",
              "      <td>2012</td>\n",
              "      <td>71.123514</td>\n",
              "      <td>8.404890</td>\n",
              "      <td>201</td>\n",
              "      <td>11.817316</td>\n",
              "      <td>0.000433</td>\n",
              "      <td>Não</td>\n",
              "      <td>1.20614</td>\n",
              "      <td>2.178813</td>\n",
              "      <td>0.251006</td>\n",
              "      <td>Não</td>\n",
              "    </tr>\n",
              "    <tr>\n",
              "      <th>13</th>\n",
              "      <td>2013</td>\n",
              "      <td>71.450914</td>\n",
              "      <td>8.235337</td>\n",
              "      <td>200</td>\n",
              "      <td>11.525867</td>\n",
              "      <td>0.000646</td>\n",
              "      <td>Não</td>\n",
              "      <td>1.136478</td>\n",
              "      <td>2.178813</td>\n",
              "      <td>0.277943</td>\n",
              "      <td>Não</td>\n",
              "    </tr>\n",
              "    <tr>\n",
              "      <th>14</th>\n",
              "      <td>2014</td>\n",
              "      <td>71.804742</td>\n",
              "      <td>8.073403</td>\n",
              "      <td>201</td>\n",
              "      <td>11.243552</td>\n",
              "      <td>0.000912</td>\n",
              "      <td>Não</td>\n",
              "      <td>1.2406</td>\n",
              "      <td>2.178813</td>\n",
              "      <td>0.238462</td>\n",
              "      <td>Não</td>\n",
              "    </tr>\n",
              "    <tr>\n",
              "      <th>15</th>\n",
              "      <td>2015</td>\n",
              "      <td>72.045503</td>\n",
              "      <td>7.866615</td>\n",
              "      <td>201</td>\n",
              "      <td>10.918954</td>\n",
              "      <td>0.000948</td>\n",
              "      <td>Não</td>\n",
              "      <td>0.854948</td>\n",
              "      <td>2.178813</td>\n",
              "      <td>0.409325</td>\n",
              "      <td>Não</td>\n",
              "    </tr>\n",
              "  </tbody>\n",
              "</table>\n",
              "</div>\n",
              "      <button class=\"colab-df-convert\" onclick=\"convertToInteractive('df-c38333e4-1c8a-4940-a503-aaca62208082')\"\n",
              "              title=\"Convert this dataframe to an interactive table.\"\n",
              "              style=\"display:none;\">\n",
              "        \n",
              "  <svg xmlns=\"http://www.w3.org/2000/svg\" height=\"24px\"viewBox=\"0 0 24 24\"\n",
              "       width=\"24px\">\n",
              "    <path d=\"M0 0h24v24H0V0z\" fill=\"none\"/>\n",
              "    <path d=\"M18.56 5.44l.94 2.06.94-2.06 2.06-.94-2.06-.94-.94-2.06-.94 2.06-2.06.94zm-11 1L8.5 8.5l.94-2.06 2.06-.94-2.06-.94L8.5 2.5l-.94 2.06-2.06.94zm10 10l.94 2.06.94-2.06 2.06-.94-2.06-.94-.94-2.06-.94 2.06-2.06.94z\"/><path d=\"M17.41 7.96l-1.37-1.37c-.4-.4-.92-.59-1.43-.59-.52 0-1.04.2-1.43.59L10.3 9.45l-7.72 7.72c-.78.78-.78 2.05 0 2.83L4 21.41c.39.39.9.59 1.41.59.51 0 1.02-.2 1.41-.59l7.78-7.78 2.81-2.81c.8-.78.8-2.07 0-2.86zM5.41 20L4 18.59l7.72-7.72 1.47 1.35L5.41 20z\"/>\n",
              "  </svg>\n",
              "      </button>\n",
              "      \n",
              "  <style>\n",
              "    .colab-df-container {\n",
              "      display:flex;\n",
              "      flex-wrap:wrap;\n",
              "      gap: 12px;\n",
              "    }\n",
              "\n",
              "    .colab-df-convert {\n",
              "      background-color: #E8F0FE;\n",
              "      border: none;\n",
              "      border-radius: 50%;\n",
              "      cursor: pointer;\n",
              "      display: none;\n",
              "      fill: #1967D2;\n",
              "      height: 32px;\n",
              "      padding: 0 0 0 0;\n",
              "      width: 32px;\n",
              "    }\n",
              "\n",
              "    .colab-df-convert:hover {\n",
              "      background-color: #E2EBFA;\n",
              "      box-shadow: 0px 1px 2px rgba(60, 64, 67, 0.3), 0px 1px 3px 1px rgba(60, 64, 67, 0.15);\n",
              "      fill: #174EA6;\n",
              "    }\n",
              "\n",
              "    [theme=dark] .colab-df-convert {\n",
              "      background-color: #3B4455;\n",
              "      fill: #D2E3FC;\n",
              "    }\n",
              "\n",
              "    [theme=dark] .colab-df-convert:hover {\n",
              "      background-color: #434B5C;\n",
              "      box-shadow: 0px 1px 3px 1px rgba(0, 0, 0, 0.15);\n",
              "      filter: drop-shadow(0px 1px 2px rgba(0, 0, 0, 0.3));\n",
              "      fill: #FFFFFF;\n",
              "    }\n",
              "  </style>\n",
              "\n",
              "      <script>\n",
              "        const buttonEl =\n",
              "          document.querySelector('#df-c38333e4-1c8a-4940-a503-aaca62208082 button.colab-df-convert');\n",
              "        buttonEl.style.display =\n",
              "          google.colab.kernel.accessAllowed ? 'block' : 'none';\n",
              "\n",
              "        async function convertToInteractive(key) {\n",
              "          const element = document.querySelector('#df-c38333e4-1c8a-4940-a503-aaca62208082');\n",
              "          const dataTable =\n",
              "            await google.colab.kernel.invokeFunction('convertToInteractive',\n",
              "                                                     [key], {});\n",
              "          if (!dataTable) return;\n",
              "\n",
              "          const docLinkHtml = 'Like what you see? Visit the ' +\n",
              "            '<a target=\"_blank\" href=https://colab.research.google.com/notebooks/data_table.ipynb>data table notebook</a>'\n",
              "            + ' to learn more about interactive tables.';\n",
              "          element.innerHTML = '';\n",
              "          dataTable['output_type'] = 'display_data';\n",
              "          await google.colab.output.renderOutput(dataTable, element);\n",
              "          const docLink = document.createElement('div');\n",
              "          docLink.innerHTML = docLinkHtml;\n",
              "          element.appendChild(docLink);\n",
              "        }\n",
              "      </script>\n",
              "    </div>\n",
              "  </div>\n",
              "  "
            ]
          },
          "metadata": {},
          "execution_count": 15
        }
      ]
    },
    {
      "cell_type": "code",
      "source": [
        "df_resumo.to_excel(bd_geral + \"Planilhas/resumo.xlsx\")  "
      ],
      "metadata": {
        "id": "rg-yxqv5LBkV"
      },
      "execution_count": 16,
      "outputs": []
    },
    {
      "cell_type": "markdown",
      "source": [
        "## **FINALIZAÇÃO DO SCRIPT**"
      ],
      "metadata": {
        "id": "gnuaEIZQuDQn"
      }
    },
    {
      "cell_type": "code",
      "source": [
        "# Cronometra o tempo de execução do programa\n",
        "\n",
        "end_script = time.time()\n",
        "print('Tempo do script {:.2f} segundos'.format((end_script - start_script)))"
      ],
      "metadata": {
        "colab": {
          "base_uri": "https://localhost:8080/"
        },
        "id": "kuk5e7LhtikF",
        "outputId": "bdbaa8df-9f6b-49f3-f86a-3f4d8b0323a3"
      },
      "execution_count": 17,
      "outputs": [
        {
          "output_type": "stream",
          "name": "stdout",
          "text": [
            "Tempo do script 17.93 segundos\n"
          ]
        }
      ]
    }
  ]
}