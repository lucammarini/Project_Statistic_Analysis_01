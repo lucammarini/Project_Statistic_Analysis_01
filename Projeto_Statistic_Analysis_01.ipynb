{
  "nbformat": 4,
  "nbformat_minor": 0,
  "metadata": {
    "colab": {
      "name": "Projeto_Statistic_Analysis_01",
      "provenance": []
    },
    "kernelspec": {
      "name": "python3",
      "display_name": "Python 3"
    },
    "language_info": {
      "name": "python"
    }
  },
  "cells": [
    {
      "cell_type": "markdown",
      "source": [
        "# **PROJETO - ANÁLISE ESTATÍSTICA DE EXPECTATIVA DE VIDA**\n",
        "\n",
        "FONTE: https://databank.worldbank.org/indicator/SP.DYN.LE00.IN/1ff4a498/Popular-Indicators#"
      ],
      "metadata": {
        "id": "3MmbzUXltwHU"
      }
    },
    {
      "cell_type": "markdown",
      "source": [
        "## **CONECTAR COM O GOOGLE DRIVE PARA CAPTAR OS BANCOS DE DADOS**"
      ],
      "metadata": {
        "id": "KfoMUJCzt2MZ"
      }
    },
    {
      "cell_type": "code",
      "execution_count": 373,
      "metadata": {
        "colab": {
          "base_uri": "https://localhost:8080/"
        },
        "id": "7DZiBqFntVn_",
        "outputId": "cd548ba8-bccc-407a-fa33-743546f7be4a"
      },
      "outputs": [
        {
          "output_type": "stream",
          "name": "stdout",
          "text": [
            "Drive already mounted at /content/drive; to attempt to forcibly remount, call drive.mount(\"/content/drive\", force_remount=True).\n"
          ]
        }
      ],
      "source": [
        "# conecta o colab ao google drive\n",
        "\n",
        "from google.colab import drive\n",
        "drive.mount('/content/drive')"
      ]
    },
    {
      "cell_type": "markdown",
      "source": [
        "## **IMPORTS DE BIBLIOTECAS**"
      ],
      "metadata": {
        "id": "16m1BcVAt-4R"
      }
    },
    {
      "cell_type": "markdown",
      "source": [
        "###BIBLIOTECA DE ANÁLISE DE TEMPO DE EXECUÇÃO DO SCRIPT"
      ],
      "metadata": {
        "id": "bfQsYW81uZau"
      }
    },
    {
      "cell_type": "code",
      "source": [
        "# Cronometra o tempo de execução do programa\n",
        "\n",
        "import time\n",
        "start_script = time.time()"
      ],
      "metadata": {
        "id": "fjFPPKIDteA_"
      },
      "execution_count": 374,
      "outputs": []
    },
    {
      "cell_type": "markdown",
      "source": [
        "###BIBLIOTECAS RESTANTES"
      ],
      "metadata": {
        "id": "uFy_FsgzuedY"
      }
    },
    {
      "cell_type": "code",
      "source": [
        "# Importa as bibliotecas necessárias\n",
        "\n",
        "from datetime import datetime, date\n",
        "import pandas as pd\n",
        "import matplotlib.pyplot as plt\n",
        "from matplotlib.pyplot import figure\n",
        "import numpy as np\n",
        "from scipy.stats import normaltest\n"
      ],
      "metadata": {
        "id": "N9G8KdFTtiXo"
      },
      "execution_count": 375,
      "outputs": []
    },
    {
      "cell_type": "markdown",
      "source": [
        "##**FUNÇÕES**"
      ],
      "metadata": {
        "id": "931PQvNJxDP_"
      }
    },
    {
      "cell_type": "code",
      "source": [
        "def ler_csv(name_csv):\n",
        "  df = pd.read_csv(bd_local + '/' + name_csv, header=0, sep = ',', skiprows=0, decimal='.')\n",
        "  return df"
      ],
      "metadata": {
        "id": "2QmkukHoxFOZ"
      },
      "execution_count": 376,
      "outputs": []
    },
    {
      "cell_type": "code",
      "source": [
        "def formatar_titulo(text):\n",
        "  words = text.split(\" \")\n",
        "  total_string = \"\"\n",
        "  for counter, word in enumerate(words):\n",
        "    if counter>0 and counter % 5 == 0:\n",
        "      total_string +=\"\\n{}\".format(word)\n",
        "    else:\n",
        "      total_string +=\" {}\".format(word)\n",
        "  return total_string.lstrip()"
      ],
      "metadata": {
        "id": "_9zH4bQIxd9v"
      },
      "execution_count": 377,
      "outputs": []
    },
    {
      "cell_type": "markdown",
      "source": [
        "##**CAPTAÇÃO DE DADOS**"
      ],
      "metadata": {
        "id": "U5PqBDW8uTbv"
      }
    },
    {
      "cell_type": "code",
      "source": [
        "bd_local = '/content/drive/MyDrive/..Python_Codes/Projeto_Statistic_Analysis_01/BD'\n",
        "bd_geral = '/content/drive/MyDrive/..Python_Codes/Projeto_Statistic_Analysis_01/'\n",
        "df = ler_csv('d9d3ffb1-daa6-4e67-a48f-a12aa3d2c776_Data.csv')\n",
        "df.head()"
      ],
      "metadata": {
        "colab": {
          "base_uri": "https://localhost:8080/",
          "height": 0
        },
        "id": "WfYuND5UwXOy",
        "outputId": "796e74f9-354e-4877-f70b-36e593642b71"
      },
      "execution_count": 378,
      "outputs": [
        {
          "output_type": "execute_result",
          "data": {
            "text/plain": [
              "                               Series Name     Series Code    Country Name  \\\n",
              "0  Life expectancy at birth, total (years)  SP.DYN.LE00.IN     Afghanistan   \n",
              "1  Life expectancy at birth, total (years)  SP.DYN.LE00.IN         Albania   \n",
              "2  Life expectancy at birth, total (years)  SP.DYN.LE00.IN         Algeria   \n",
              "3  Life expectancy at birth, total (years)  SP.DYN.LE00.IN  American Samoa   \n",
              "4  Life expectancy at birth, total (years)  SP.DYN.LE00.IN         Andorra   \n",
              "\n",
              "  Country Code 2000 [YR2000] 2001 [YR2001] 2002 [YR2002] 2003 [YR2003]  \\\n",
              "0          AFG        55.841        56.308        56.784        57.271   \n",
              "1          ALB        73.955        74.288        74.579        74.828   \n",
              "2          DZA         70.64        71.116        71.605        72.101   \n",
              "3          ASM            ..            ..            ..            ..   \n",
              "4          AND            ..            ..            ..            ..   \n",
              "\n",
              "  2004 [YR2004] 2005 [YR2005] 2006 [YR2006] 2007 [YR2007] 2008 [YR2008]  \\\n",
              "0        57.772         58.29        58.826        59.375         59.93   \n",
              "1        75.039        75.228        75.423        75.646        75.912   \n",
              "2        72.594        73.072        73.521        73.936        74.311   \n",
              "3            ..            ..            ..            ..            ..   \n",
              "4            ..            ..            ..            ..            ..   \n",
              "\n",
              "  2009 [YR2009] 2010 [YR2010] 2011 [YR2011] 2012 [YR2012] 2013 [YR2013]  \\\n",
              "0        60.484        61.028        61.553        62.054        62.525   \n",
              "1        76.221        76.562        76.914        77.252        77.554   \n",
              "2        74.644        74.938        75.199        75.436        75.661   \n",
              "3            ..            ..            ..            ..            ..   \n",
              "4            ..            ..            ..            ..            ..   \n",
              "\n",
              "  2014 [YR2014] 2015 [YR2015]  \n",
              "0        62.966        63.377  \n",
              "1        77.813        78.025  \n",
              "2        75.878         76.09  \n",
              "3            ..            ..  \n",
              "4            ..            ..  "
            ],
            "text/html": [
              "\n",
              "  <div id=\"df-ea041e4b-7ba8-433e-9a31-f37f381d4585\">\n",
              "    <div class=\"colab-df-container\">\n",
              "      <div>\n",
              "<style scoped>\n",
              "    .dataframe tbody tr th:only-of-type {\n",
              "        vertical-align: middle;\n",
              "    }\n",
              "\n",
              "    .dataframe tbody tr th {\n",
              "        vertical-align: top;\n",
              "    }\n",
              "\n",
              "    .dataframe thead th {\n",
              "        text-align: right;\n",
              "    }\n",
              "</style>\n",
              "<table border=\"1\" class=\"dataframe\">\n",
              "  <thead>\n",
              "    <tr style=\"text-align: right;\">\n",
              "      <th></th>\n",
              "      <th>Series Name</th>\n",
              "      <th>Series Code</th>\n",
              "      <th>Country Name</th>\n",
              "      <th>Country Code</th>\n",
              "      <th>2000 [YR2000]</th>\n",
              "      <th>2001 [YR2001]</th>\n",
              "      <th>2002 [YR2002]</th>\n",
              "      <th>2003 [YR2003]</th>\n",
              "      <th>2004 [YR2004]</th>\n",
              "      <th>2005 [YR2005]</th>\n",
              "      <th>2006 [YR2006]</th>\n",
              "      <th>2007 [YR2007]</th>\n",
              "      <th>2008 [YR2008]</th>\n",
              "      <th>2009 [YR2009]</th>\n",
              "      <th>2010 [YR2010]</th>\n",
              "      <th>2011 [YR2011]</th>\n",
              "      <th>2012 [YR2012]</th>\n",
              "      <th>2013 [YR2013]</th>\n",
              "      <th>2014 [YR2014]</th>\n",
              "      <th>2015 [YR2015]</th>\n",
              "    </tr>\n",
              "  </thead>\n",
              "  <tbody>\n",
              "    <tr>\n",
              "      <th>0</th>\n",
              "      <td>Life expectancy at birth, total (years)</td>\n",
              "      <td>SP.DYN.LE00.IN</td>\n",
              "      <td>Afghanistan</td>\n",
              "      <td>AFG</td>\n",
              "      <td>55.841</td>\n",
              "      <td>56.308</td>\n",
              "      <td>56.784</td>\n",
              "      <td>57.271</td>\n",
              "      <td>57.772</td>\n",
              "      <td>58.29</td>\n",
              "      <td>58.826</td>\n",
              "      <td>59.375</td>\n",
              "      <td>59.93</td>\n",
              "      <td>60.484</td>\n",
              "      <td>61.028</td>\n",
              "      <td>61.553</td>\n",
              "      <td>62.054</td>\n",
              "      <td>62.525</td>\n",
              "      <td>62.966</td>\n",
              "      <td>63.377</td>\n",
              "    </tr>\n",
              "    <tr>\n",
              "      <th>1</th>\n",
              "      <td>Life expectancy at birth, total (years)</td>\n",
              "      <td>SP.DYN.LE00.IN</td>\n",
              "      <td>Albania</td>\n",
              "      <td>ALB</td>\n",
              "      <td>73.955</td>\n",
              "      <td>74.288</td>\n",
              "      <td>74.579</td>\n",
              "      <td>74.828</td>\n",
              "      <td>75.039</td>\n",
              "      <td>75.228</td>\n",
              "      <td>75.423</td>\n",
              "      <td>75.646</td>\n",
              "      <td>75.912</td>\n",
              "      <td>76.221</td>\n",
              "      <td>76.562</td>\n",
              "      <td>76.914</td>\n",
              "      <td>77.252</td>\n",
              "      <td>77.554</td>\n",
              "      <td>77.813</td>\n",
              "      <td>78.025</td>\n",
              "    </tr>\n",
              "    <tr>\n",
              "      <th>2</th>\n",
              "      <td>Life expectancy at birth, total (years)</td>\n",
              "      <td>SP.DYN.LE00.IN</td>\n",
              "      <td>Algeria</td>\n",
              "      <td>DZA</td>\n",
              "      <td>70.64</td>\n",
              "      <td>71.116</td>\n",
              "      <td>71.605</td>\n",
              "      <td>72.101</td>\n",
              "      <td>72.594</td>\n",
              "      <td>73.072</td>\n",
              "      <td>73.521</td>\n",
              "      <td>73.936</td>\n",
              "      <td>74.311</td>\n",
              "      <td>74.644</td>\n",
              "      <td>74.938</td>\n",
              "      <td>75.199</td>\n",
              "      <td>75.436</td>\n",
              "      <td>75.661</td>\n",
              "      <td>75.878</td>\n",
              "      <td>76.09</td>\n",
              "    </tr>\n",
              "    <tr>\n",
              "      <th>3</th>\n",
              "      <td>Life expectancy at birth, total (years)</td>\n",
              "      <td>SP.DYN.LE00.IN</td>\n",
              "      <td>American Samoa</td>\n",
              "      <td>ASM</td>\n",
              "      <td>..</td>\n",
              "      <td>..</td>\n",
              "      <td>..</td>\n",
              "      <td>..</td>\n",
              "      <td>..</td>\n",
              "      <td>..</td>\n",
              "      <td>..</td>\n",
              "      <td>..</td>\n",
              "      <td>..</td>\n",
              "      <td>..</td>\n",
              "      <td>..</td>\n",
              "      <td>..</td>\n",
              "      <td>..</td>\n",
              "      <td>..</td>\n",
              "      <td>..</td>\n",
              "      <td>..</td>\n",
              "    </tr>\n",
              "    <tr>\n",
              "      <th>4</th>\n",
              "      <td>Life expectancy at birth, total (years)</td>\n",
              "      <td>SP.DYN.LE00.IN</td>\n",
              "      <td>Andorra</td>\n",
              "      <td>AND</td>\n",
              "      <td>..</td>\n",
              "      <td>..</td>\n",
              "      <td>..</td>\n",
              "      <td>..</td>\n",
              "      <td>..</td>\n",
              "      <td>..</td>\n",
              "      <td>..</td>\n",
              "      <td>..</td>\n",
              "      <td>..</td>\n",
              "      <td>..</td>\n",
              "      <td>..</td>\n",
              "      <td>..</td>\n",
              "      <td>..</td>\n",
              "      <td>..</td>\n",
              "      <td>..</td>\n",
              "      <td>..</td>\n",
              "    </tr>\n",
              "  </tbody>\n",
              "</table>\n",
              "</div>\n",
              "      <button class=\"colab-df-convert\" onclick=\"convertToInteractive('df-ea041e4b-7ba8-433e-9a31-f37f381d4585')\"\n",
              "              title=\"Convert this dataframe to an interactive table.\"\n",
              "              style=\"display:none;\">\n",
              "        \n",
              "  <svg xmlns=\"http://www.w3.org/2000/svg\" height=\"24px\"viewBox=\"0 0 24 24\"\n",
              "       width=\"24px\">\n",
              "    <path d=\"M0 0h24v24H0V0z\" fill=\"none\"/>\n",
              "    <path d=\"M18.56 5.44l.94 2.06.94-2.06 2.06-.94-2.06-.94-.94-2.06-.94 2.06-2.06.94zm-11 1L8.5 8.5l.94-2.06 2.06-.94-2.06-.94L8.5 2.5l-.94 2.06-2.06.94zm10 10l.94 2.06.94-2.06 2.06-.94-2.06-.94-.94-2.06-.94 2.06-2.06.94z\"/><path d=\"M17.41 7.96l-1.37-1.37c-.4-.4-.92-.59-1.43-.59-.52 0-1.04.2-1.43.59L10.3 9.45l-7.72 7.72c-.78.78-.78 2.05 0 2.83L4 21.41c.39.39.9.59 1.41.59.51 0 1.02-.2 1.41-.59l7.78-7.78 2.81-2.81c.8-.78.8-2.07 0-2.86zM5.41 20L4 18.59l7.72-7.72 1.47 1.35L5.41 20z\"/>\n",
              "  </svg>\n",
              "      </button>\n",
              "      \n",
              "  <style>\n",
              "    .colab-df-container {\n",
              "      display:flex;\n",
              "      flex-wrap:wrap;\n",
              "      gap: 12px;\n",
              "    }\n",
              "\n",
              "    .colab-df-convert {\n",
              "      background-color: #E8F0FE;\n",
              "      border: none;\n",
              "      border-radius: 50%;\n",
              "      cursor: pointer;\n",
              "      display: none;\n",
              "      fill: #1967D2;\n",
              "      height: 32px;\n",
              "      padding: 0 0 0 0;\n",
              "      width: 32px;\n",
              "    }\n",
              "\n",
              "    .colab-df-convert:hover {\n",
              "      background-color: #E2EBFA;\n",
              "      box-shadow: 0px 1px 2px rgba(60, 64, 67, 0.3), 0px 1px 3px 1px rgba(60, 64, 67, 0.15);\n",
              "      fill: #174EA6;\n",
              "    }\n",
              "\n",
              "    [theme=dark] .colab-df-convert {\n",
              "      background-color: #3B4455;\n",
              "      fill: #D2E3FC;\n",
              "    }\n",
              "\n",
              "    [theme=dark] .colab-df-convert:hover {\n",
              "      background-color: #434B5C;\n",
              "      box-shadow: 0px 1px 3px 1px rgba(0, 0, 0, 0.15);\n",
              "      filter: drop-shadow(0px 1px 2px rgba(0, 0, 0, 0.3));\n",
              "      fill: #FFFFFF;\n",
              "    }\n",
              "  </style>\n",
              "\n",
              "      <script>\n",
              "        const buttonEl =\n",
              "          document.querySelector('#df-ea041e4b-7ba8-433e-9a31-f37f381d4585 button.colab-df-convert');\n",
              "        buttonEl.style.display =\n",
              "          google.colab.kernel.accessAllowed ? 'block' : 'none';\n",
              "\n",
              "        async function convertToInteractive(key) {\n",
              "          const element = document.querySelector('#df-ea041e4b-7ba8-433e-9a31-f37f381d4585');\n",
              "          const dataTable =\n",
              "            await google.colab.kernel.invokeFunction('convertToInteractive',\n",
              "                                                     [key], {});\n",
              "          if (!dataTable) return;\n",
              "\n",
              "          const docLinkHtml = 'Like what you see? Visit the ' +\n",
              "            '<a target=\"_blank\" href=https://colab.research.google.com/notebooks/data_table.ipynb>data table notebook</a>'\n",
              "            + ' to learn more about interactive tables.';\n",
              "          element.innerHTML = '';\n",
              "          dataTable['output_type'] = 'display_data';\n",
              "          await google.colab.output.renderOutput(dataTable, element);\n",
              "          const docLink = document.createElement('div');\n",
              "          docLink.innerHTML = docLinkHtml;\n",
              "          element.appendChild(docLink);\n",
              "        }\n",
              "      </script>\n",
              "    </div>\n",
              "  </div>\n",
              "  "
            ]
          },
          "metadata": {},
          "execution_count": 378
        }
      ]
    },
    {
      "cell_type": "markdown",
      "source": [
        "## **TRATAMENTO DE DADOS**"
      ],
      "metadata": {
        "id": "eWMvgk1GuHIN"
      }
    },
    {
      "cell_type": "code",
      "source": [
        "try:\n",
        "  df.drop('Series Name',  axis='columns', inplace=True)    # remove colunas desnecessárias\n",
        "  df.drop('Series Code',  axis='columns', inplace=True)    # remove colunas desnecessárias\n",
        "  df.drop('Country Code',  axis='columns', inplace=True)    # remove colunas desnecessárias\n",
        "except:\n",
        "  pass\n",
        "\n",
        "# transposição\n",
        "# df = df.transpose()                                       # transpõe o dataframe para facilitar a visualização\n",
        "# new_header = df.iloc[0]                                   #grab the first row for the header\n",
        "# df = df[1:]                                               #take the data less the header row\n",
        "# df.columns = new_header                                   #set the header row as the df header\n",
        "\n",
        "# renomear colunas\n",
        "df.columns = ['País', '2000', '2001', '2002', '2003', '2004', '2005', '2006', '2007', '2008', '2009', '2010', '2011', '2012', '2013', '2014', '2015']\n",
        "\n",
        "# Remove NaN:\n",
        "df.replace('..', np.nan, inplace=True)\n",
        "df = df[df['País'].notna()]\n",
        "df"
      ],
      "metadata": {
        "colab": {
          "base_uri": "https://localhost:8080/",
          "height": 574
        },
        "id": "J0AfmPeOzVCB",
        "outputId": "78b50497-d8b8-4748-ebcd-ee68edea00e9"
      },
      "execution_count": 379,
      "outputs": [
        {
          "output_type": "execute_result",
          "data": {
            "text/plain": [
              "                      País             2000              2001  \\\n",
              "0              Afghanistan           55.841            56.308   \n",
              "1                  Albania           73.955            74.288   \n",
              "2                  Algeria            70.64            71.116   \n",
              "3           American Samoa              NaN               NaN   \n",
              "4                  Andorra              NaN               NaN   \n",
              "..                     ...              ...               ...   \n",
              "212  Virgin Islands (U.S.)  76.619512195122  77.6219512195122   \n",
              "213     West Bank and Gaza           71.022            71.239   \n",
              "214            Yemen, Rep.           60.683            61.216   \n",
              "215                 Zambia               44            44.615   \n",
              "216               Zimbabwe           44.649             44.01   \n",
              "\n",
              "                 2002              2003              2004              2005  \\\n",
              "0              56.784            57.271            57.772             58.29   \n",
              "1              74.579            74.828            75.039            75.228   \n",
              "2              71.605            72.101            72.594            73.072   \n",
              "3                 NaN               NaN               NaN               NaN   \n",
              "4                 NaN               NaN               NaN               NaN   \n",
              "..                ...               ...               ...               ...   \n",
              "212  77.5219512195122  77.5219512195122  77.7731707317073  77.4219512195122   \n",
              "213            71.447            71.648            71.842            72.028   \n",
              "214            61.781            62.358            62.931            63.481   \n",
              "215              45.4            46.322            47.354            48.496   \n",
              "216            43.523            43.195            43.065            43.241   \n",
              "\n",
              "                 2006              2007              2008              2009  \\\n",
              "0              58.826            59.375             59.93            60.484   \n",
              "1              75.423            75.646            75.912            76.221   \n",
              "2              73.521            73.936            74.311            74.644   \n",
              "3                 NaN               NaN               NaN               NaN   \n",
              "4                 NaN               NaN               NaN               NaN   \n",
              "..                ...               ...               ...               ...   \n",
              "212  78.3243902439024  76.8634146341463  77.1634146341463  77.5146341463415   \n",
              "213            72.203            72.366            72.517            72.656   \n",
              "214            63.997             64.47            64.892            65.255   \n",
              "215            49.757            51.134            52.606             54.13   \n",
              "216            43.853            44.947            46.504            48.449   \n",
              "\n",
              "                 2010              2011              2012              2013  \\\n",
              "0              61.028            61.553            62.054            62.525   \n",
              "1              76.562            76.914            77.252            77.554   \n",
              "2              74.938            75.199            75.436            75.661   \n",
              "3                 NaN               NaN               NaN               NaN   \n",
              "4                 NaN               NaN               NaN               NaN   \n",
              "..                ...               ...               ...               ...   \n",
              "212  77.8658536585366  78.3170731707317  78.5170731707317  78.7170731707317   \n",
              "213            72.788            72.915            73.041             73.17   \n",
              "214            65.549            65.768             65.92            66.016   \n",
              "215            55.655            57.126            58.502            59.746   \n",
              "216             50.64            52.896            55.032            56.897   \n",
              "\n",
              "                 2014              2015  \n",
              "0              62.966            63.377  \n",
              "1              77.813            78.025  \n",
              "2              75.878             76.09  \n",
              "3                 NaN               NaN  \n",
              "4                 NaN               NaN  \n",
              "..                ...               ...  \n",
              "212  78.8682926829268  79.0170731707317  \n",
              "213            73.303            73.442  \n",
              "214            66.066            66.085  \n",
              "215            60.831            61.737  \n",
              "216             58.41            59.534  \n",
              "\n",
              "[217 rows x 17 columns]"
            ],
            "text/html": [
              "\n",
              "  <div id=\"df-e2dab6fc-f639-42bc-aedb-f46e17cc70fb\">\n",
              "    <div class=\"colab-df-container\">\n",
              "      <div>\n",
              "<style scoped>\n",
              "    .dataframe tbody tr th:only-of-type {\n",
              "        vertical-align: middle;\n",
              "    }\n",
              "\n",
              "    .dataframe tbody tr th {\n",
              "        vertical-align: top;\n",
              "    }\n",
              "\n",
              "    .dataframe thead th {\n",
              "        text-align: right;\n",
              "    }\n",
              "</style>\n",
              "<table border=\"1\" class=\"dataframe\">\n",
              "  <thead>\n",
              "    <tr style=\"text-align: right;\">\n",
              "      <th></th>\n",
              "      <th>País</th>\n",
              "      <th>2000</th>\n",
              "      <th>2001</th>\n",
              "      <th>2002</th>\n",
              "      <th>2003</th>\n",
              "      <th>2004</th>\n",
              "      <th>2005</th>\n",
              "      <th>2006</th>\n",
              "      <th>2007</th>\n",
              "      <th>2008</th>\n",
              "      <th>2009</th>\n",
              "      <th>2010</th>\n",
              "      <th>2011</th>\n",
              "      <th>2012</th>\n",
              "      <th>2013</th>\n",
              "      <th>2014</th>\n",
              "      <th>2015</th>\n",
              "    </tr>\n",
              "  </thead>\n",
              "  <tbody>\n",
              "    <tr>\n",
              "      <th>0</th>\n",
              "      <td>Afghanistan</td>\n",
              "      <td>55.841</td>\n",
              "      <td>56.308</td>\n",
              "      <td>56.784</td>\n",
              "      <td>57.271</td>\n",
              "      <td>57.772</td>\n",
              "      <td>58.29</td>\n",
              "      <td>58.826</td>\n",
              "      <td>59.375</td>\n",
              "      <td>59.93</td>\n",
              "      <td>60.484</td>\n",
              "      <td>61.028</td>\n",
              "      <td>61.553</td>\n",
              "      <td>62.054</td>\n",
              "      <td>62.525</td>\n",
              "      <td>62.966</td>\n",
              "      <td>63.377</td>\n",
              "    </tr>\n",
              "    <tr>\n",
              "      <th>1</th>\n",
              "      <td>Albania</td>\n",
              "      <td>73.955</td>\n",
              "      <td>74.288</td>\n",
              "      <td>74.579</td>\n",
              "      <td>74.828</td>\n",
              "      <td>75.039</td>\n",
              "      <td>75.228</td>\n",
              "      <td>75.423</td>\n",
              "      <td>75.646</td>\n",
              "      <td>75.912</td>\n",
              "      <td>76.221</td>\n",
              "      <td>76.562</td>\n",
              "      <td>76.914</td>\n",
              "      <td>77.252</td>\n",
              "      <td>77.554</td>\n",
              "      <td>77.813</td>\n",
              "      <td>78.025</td>\n",
              "    </tr>\n",
              "    <tr>\n",
              "      <th>2</th>\n",
              "      <td>Algeria</td>\n",
              "      <td>70.64</td>\n",
              "      <td>71.116</td>\n",
              "      <td>71.605</td>\n",
              "      <td>72.101</td>\n",
              "      <td>72.594</td>\n",
              "      <td>73.072</td>\n",
              "      <td>73.521</td>\n",
              "      <td>73.936</td>\n",
              "      <td>74.311</td>\n",
              "      <td>74.644</td>\n",
              "      <td>74.938</td>\n",
              "      <td>75.199</td>\n",
              "      <td>75.436</td>\n",
              "      <td>75.661</td>\n",
              "      <td>75.878</td>\n",
              "      <td>76.09</td>\n",
              "    </tr>\n",
              "    <tr>\n",
              "      <th>3</th>\n",
              "      <td>American Samoa</td>\n",
              "      <td>NaN</td>\n",
              "      <td>NaN</td>\n",
              "      <td>NaN</td>\n",
              "      <td>NaN</td>\n",
              "      <td>NaN</td>\n",
              "      <td>NaN</td>\n",
              "      <td>NaN</td>\n",
              "      <td>NaN</td>\n",
              "      <td>NaN</td>\n",
              "      <td>NaN</td>\n",
              "      <td>NaN</td>\n",
              "      <td>NaN</td>\n",
              "      <td>NaN</td>\n",
              "      <td>NaN</td>\n",
              "      <td>NaN</td>\n",
              "      <td>NaN</td>\n",
              "    </tr>\n",
              "    <tr>\n",
              "      <th>4</th>\n",
              "      <td>Andorra</td>\n",
              "      <td>NaN</td>\n",
              "      <td>NaN</td>\n",
              "      <td>NaN</td>\n",
              "      <td>NaN</td>\n",
              "      <td>NaN</td>\n",
              "      <td>NaN</td>\n",
              "      <td>NaN</td>\n",
              "      <td>NaN</td>\n",
              "      <td>NaN</td>\n",
              "      <td>NaN</td>\n",
              "      <td>NaN</td>\n",
              "      <td>NaN</td>\n",
              "      <td>NaN</td>\n",
              "      <td>NaN</td>\n",
              "      <td>NaN</td>\n",
              "      <td>NaN</td>\n",
              "    </tr>\n",
              "    <tr>\n",
              "      <th>...</th>\n",
              "      <td>...</td>\n",
              "      <td>...</td>\n",
              "      <td>...</td>\n",
              "      <td>...</td>\n",
              "      <td>...</td>\n",
              "      <td>...</td>\n",
              "      <td>...</td>\n",
              "      <td>...</td>\n",
              "      <td>...</td>\n",
              "      <td>...</td>\n",
              "      <td>...</td>\n",
              "      <td>...</td>\n",
              "      <td>...</td>\n",
              "      <td>...</td>\n",
              "      <td>...</td>\n",
              "      <td>...</td>\n",
              "      <td>...</td>\n",
              "    </tr>\n",
              "    <tr>\n",
              "      <th>212</th>\n",
              "      <td>Virgin Islands (U.S.)</td>\n",
              "      <td>76.619512195122</td>\n",
              "      <td>77.6219512195122</td>\n",
              "      <td>77.5219512195122</td>\n",
              "      <td>77.5219512195122</td>\n",
              "      <td>77.7731707317073</td>\n",
              "      <td>77.4219512195122</td>\n",
              "      <td>78.3243902439024</td>\n",
              "      <td>76.8634146341463</td>\n",
              "      <td>77.1634146341463</td>\n",
              "      <td>77.5146341463415</td>\n",
              "      <td>77.8658536585366</td>\n",
              "      <td>78.3170731707317</td>\n",
              "      <td>78.5170731707317</td>\n",
              "      <td>78.7170731707317</td>\n",
              "      <td>78.8682926829268</td>\n",
              "      <td>79.0170731707317</td>\n",
              "    </tr>\n",
              "    <tr>\n",
              "      <th>213</th>\n",
              "      <td>West Bank and Gaza</td>\n",
              "      <td>71.022</td>\n",
              "      <td>71.239</td>\n",
              "      <td>71.447</td>\n",
              "      <td>71.648</td>\n",
              "      <td>71.842</td>\n",
              "      <td>72.028</td>\n",
              "      <td>72.203</td>\n",
              "      <td>72.366</td>\n",
              "      <td>72.517</td>\n",
              "      <td>72.656</td>\n",
              "      <td>72.788</td>\n",
              "      <td>72.915</td>\n",
              "      <td>73.041</td>\n",
              "      <td>73.17</td>\n",
              "      <td>73.303</td>\n",
              "      <td>73.442</td>\n",
              "    </tr>\n",
              "    <tr>\n",
              "      <th>214</th>\n",
              "      <td>Yemen, Rep.</td>\n",
              "      <td>60.683</td>\n",
              "      <td>61.216</td>\n",
              "      <td>61.781</td>\n",
              "      <td>62.358</td>\n",
              "      <td>62.931</td>\n",
              "      <td>63.481</td>\n",
              "      <td>63.997</td>\n",
              "      <td>64.47</td>\n",
              "      <td>64.892</td>\n",
              "      <td>65.255</td>\n",
              "      <td>65.549</td>\n",
              "      <td>65.768</td>\n",
              "      <td>65.92</td>\n",
              "      <td>66.016</td>\n",
              "      <td>66.066</td>\n",
              "      <td>66.085</td>\n",
              "    </tr>\n",
              "    <tr>\n",
              "      <th>215</th>\n",
              "      <td>Zambia</td>\n",
              "      <td>44</td>\n",
              "      <td>44.615</td>\n",
              "      <td>45.4</td>\n",
              "      <td>46.322</td>\n",
              "      <td>47.354</td>\n",
              "      <td>48.496</td>\n",
              "      <td>49.757</td>\n",
              "      <td>51.134</td>\n",
              "      <td>52.606</td>\n",
              "      <td>54.13</td>\n",
              "      <td>55.655</td>\n",
              "      <td>57.126</td>\n",
              "      <td>58.502</td>\n",
              "      <td>59.746</td>\n",
              "      <td>60.831</td>\n",
              "      <td>61.737</td>\n",
              "    </tr>\n",
              "    <tr>\n",
              "      <th>216</th>\n",
              "      <td>Zimbabwe</td>\n",
              "      <td>44.649</td>\n",
              "      <td>44.01</td>\n",
              "      <td>43.523</td>\n",
              "      <td>43.195</td>\n",
              "      <td>43.065</td>\n",
              "      <td>43.241</td>\n",
              "      <td>43.853</td>\n",
              "      <td>44.947</td>\n",
              "      <td>46.504</td>\n",
              "      <td>48.449</td>\n",
              "      <td>50.64</td>\n",
              "      <td>52.896</td>\n",
              "      <td>55.032</td>\n",
              "      <td>56.897</td>\n",
              "      <td>58.41</td>\n",
              "      <td>59.534</td>\n",
              "    </tr>\n",
              "  </tbody>\n",
              "</table>\n",
              "<p>217 rows × 17 columns</p>\n",
              "</div>\n",
              "      <button class=\"colab-df-convert\" onclick=\"convertToInteractive('df-e2dab6fc-f639-42bc-aedb-f46e17cc70fb')\"\n",
              "              title=\"Convert this dataframe to an interactive table.\"\n",
              "              style=\"display:none;\">\n",
              "        \n",
              "  <svg xmlns=\"http://www.w3.org/2000/svg\" height=\"24px\"viewBox=\"0 0 24 24\"\n",
              "       width=\"24px\">\n",
              "    <path d=\"M0 0h24v24H0V0z\" fill=\"none\"/>\n",
              "    <path d=\"M18.56 5.44l.94 2.06.94-2.06 2.06-.94-2.06-.94-.94-2.06-.94 2.06-2.06.94zm-11 1L8.5 8.5l.94-2.06 2.06-.94-2.06-.94L8.5 2.5l-.94 2.06-2.06.94zm10 10l.94 2.06.94-2.06 2.06-.94-2.06-.94-.94-2.06-.94 2.06-2.06.94z\"/><path d=\"M17.41 7.96l-1.37-1.37c-.4-.4-.92-.59-1.43-.59-.52 0-1.04.2-1.43.59L10.3 9.45l-7.72 7.72c-.78.78-.78 2.05 0 2.83L4 21.41c.39.39.9.59 1.41.59.51 0 1.02-.2 1.41-.59l7.78-7.78 2.81-2.81c.8-.78.8-2.07 0-2.86zM5.41 20L4 18.59l7.72-7.72 1.47 1.35L5.41 20z\"/>\n",
              "  </svg>\n",
              "      </button>\n",
              "      \n",
              "  <style>\n",
              "    .colab-df-container {\n",
              "      display:flex;\n",
              "      flex-wrap:wrap;\n",
              "      gap: 12px;\n",
              "    }\n",
              "\n",
              "    .colab-df-convert {\n",
              "      background-color: #E8F0FE;\n",
              "      border: none;\n",
              "      border-radius: 50%;\n",
              "      cursor: pointer;\n",
              "      display: none;\n",
              "      fill: #1967D2;\n",
              "      height: 32px;\n",
              "      padding: 0 0 0 0;\n",
              "      width: 32px;\n",
              "    }\n",
              "\n",
              "    .colab-df-convert:hover {\n",
              "      background-color: #E2EBFA;\n",
              "      box-shadow: 0px 1px 2px rgba(60, 64, 67, 0.3), 0px 1px 3px 1px rgba(60, 64, 67, 0.15);\n",
              "      fill: #174EA6;\n",
              "    }\n",
              "\n",
              "    [theme=dark] .colab-df-convert {\n",
              "      background-color: #3B4455;\n",
              "      fill: #D2E3FC;\n",
              "    }\n",
              "\n",
              "    [theme=dark] .colab-df-convert:hover {\n",
              "      background-color: #434B5C;\n",
              "      box-shadow: 0px 1px 3px 1px rgba(0, 0, 0, 0.15);\n",
              "      filter: drop-shadow(0px 1px 2px rgba(0, 0, 0, 0.3));\n",
              "      fill: #FFFFFF;\n",
              "    }\n",
              "  </style>\n",
              "\n",
              "      <script>\n",
              "        const buttonEl =\n",
              "          document.querySelector('#df-e2dab6fc-f639-42bc-aedb-f46e17cc70fb button.colab-df-convert');\n",
              "        buttonEl.style.display =\n",
              "          google.colab.kernel.accessAllowed ? 'block' : 'none';\n",
              "\n",
              "        async function convertToInteractive(key) {\n",
              "          const element = document.querySelector('#df-e2dab6fc-f639-42bc-aedb-f46e17cc70fb');\n",
              "          const dataTable =\n",
              "            await google.colab.kernel.invokeFunction('convertToInteractive',\n",
              "                                                     [key], {});\n",
              "          if (!dataTable) return;\n",
              "\n",
              "          const docLinkHtml = 'Like what you see? Visit the ' +\n",
              "            '<a target=\"_blank\" href=https://colab.research.google.com/notebooks/data_table.ipynb>data table notebook</a>'\n",
              "            + ' to learn more about interactive tables.';\n",
              "          element.innerHTML = '';\n",
              "          dataTable['output_type'] = 'display_data';\n",
              "          await google.colab.output.renderOutput(dataTable, element);\n",
              "          const docLink = document.createElement('div');\n",
              "          docLink.innerHTML = docLinkHtml;\n",
              "          element.appendChild(docLink);\n",
              "        }\n",
              "      </script>\n",
              "    </div>\n",
              "  </div>\n",
              "  "
            ]
          },
          "metadata": {},
          "execution_count": 379
        }
      ]
    },
    {
      "cell_type": "code",
      "source": [
        "# passando os valores do datafame de 'string' para 'float':\n",
        "try:\n",
        "  df.drop('País',  axis='columns', inplace=True)    # remove colunas desnecessárias\n",
        "except:\n",
        "  pass\n",
        "df = df.astype(float)"
      ],
      "metadata": {
        "id": "zOD1YvMS8WhD"
      },
      "execution_count": 380,
      "outputs": []
    },
    {
      "cell_type": "code",
      "source": [
        "# criação de dataframe de resumo dos dados:\n",
        "lista_index = list(range(2000,2015))\n",
        "lista_media = []\n",
        "lista_dp = []\n",
        "lista_num_amostras = []\n",
        "\n",
        "for n in range(1, len(df.columns)):\n",
        "  lista_media.append(df[df.columns[n]].mean())\n",
        "  lista_dp.append(df[df.columns[n]].std())\n",
        "  lista_num_amostras.append(df[df.columns[n]].count())\n",
        "\n",
        "df_resumo = pd.DataFrame({'Ano': lista_index, \n",
        "                         'Média':lista_media, \n",
        "                         'Desvio Padrão': lista_dp,\n",
        "                          'Amostras': lista_num_amostras})\n",
        "\n",
        "df_resumo[\"Variabilidade (%)\"] = 100*df_resumo['Desvio Padrão']/df_resumo['Média']"
      ],
      "metadata": {
        "id": "gqbd4G6L48rC"
      },
      "execution_count": 381,
      "outputs": []
    },
    {
      "cell_type": "markdown",
      "source": [
        "### TESTE T"
      ],
      "metadata": {
        "id": "UFDaSoZ0QVjd"
      }
    },
    {
      "cell_type": "code",
      "source": [
        "significancia = 0.05  # 95% de confiabilidade\n",
        "\n",
        "normaltest(df['2000'].dropna()) # retorna a estatistica de teste e o p-valor (precisa remover os NaN)"
      ],
      "metadata": {
        "colab": {
          "base_uri": "https://localhost:8080/"
        },
        "id": "8yIlMF7zQcZK",
        "outputId": "cfc58bb1-9e16-418b-c648-4253fde6e520"
      },
      "execution_count": 390,
      "outputs": [
        {
          "output_type": "execute_result",
          "data": {
            "text/plain": [
              "NormaltestResult(statistic=20.302183620163575, pvalue=3.9033441297610966e-05)"
            ]
          },
          "metadata": {},
          "execution_count": 390
        }
      ]
    },
    {
      "cell_type": "markdown",
      "source": [
        "### TESTE F"
      ],
      "metadata": {
        "id": "uKoxpRGGQclP"
      }
    },
    {
      "cell_type": "code",
      "source": [
        ""
      ],
      "metadata": {
        "id": "cD0feXTywXpU"
      },
      "execution_count": 382,
      "outputs": []
    },
    {
      "cell_type": "markdown",
      "source": [
        "##**RESULTADOS**"
      ],
      "metadata": {
        "id": "vOheQ4eCweED"
      }
    },
    {
      "cell_type": "markdown",
      "source": [
        "###**GERAÇÃO DE GRÁFICOS**\n"
      ],
      "metadata": {
        "id": "b-jCE1FcuKdy"
      }
    },
    {
      "cell_type": "code",
      "source": [
        "for i in df.columns:\n",
        "  if i == 'País':\n",
        "    pass\n",
        "  else:\n",
        "    fig, ax = plt.subplots()\n",
        "    ax.hist(df[i], bins=5, density=True, color='gray',histtype = 'bar',range = (40, 90))\n",
        "\n",
        "    ax.set_title(\"Expectativa de Vida Mundial Média - Ano de \" + str(i))\n",
        "    ax.set_ylabel('Densidade de Probabilidade')\n",
        "    ax.set_xlabel('Ano')\n",
        "    fig.savefig(bd_geral + \"Imagens/histograma_expectativa_de_vida_anos_\" + str(i) + \".png\", dpi=300)  "
      ],
      "metadata": {
        "colab": {
          "base_uri": "https://localhost:8080/",
          "height": 1000
        },
        "id": "jIxiUVVDwYLK",
        "outputId": "c2ebd606-ab15-454f-b033-c32ac5ef646b"
      },
      "execution_count": 383,
      "outputs": [
        {
          "output_type": "display_data",
          "data": {
            "text/plain": [
              "<Figure size 432x288 with 1 Axes>"
            ],
            "image/png": "[encoded data removed]"
          },
          "metadata": {
            "needs_background": "light"
          }
        },
        {
          "output_type": "display_data",
          "data": {
            "text/plain": [
              "<Figure size 432x288 with 1 Axes>"
            ],
            "image/png": "[encoded data removed]"
          },
          "metadata": {
            "needs_background": "light"
          }
        },
        {
          "output_type": "display_data",
          "data": {
            "text/plain": [
              "<Figure size 432x288 with 1 Axes>"
            ],
            "image/png": "[encoded data removed]"
          },
          "metadata": {
            "needs_background": "light"
          }
        },
        {
          "output_type": "display_data",
          "data": {
            "text/plain": [
              "<Figure size 432x288 with 1 Axes>"
            ],
            "image/png": "[encoded data removed]"
          },
          "metadata": {
            "needs_background": "light"
          }
        },
        {
          "output_type": "display_data",
          "data": {
            "text/plain": [
              "<Figure size 432x288 with 1 Axes>"
            ],
            "image/png": "[encoded data removed]"
          },
          "metadata": {
            "needs_background": "light"
          }
        },
        {
          "output_type": "display_data",
          "data": {
            "text/plain": [
              "<Figure size 432x288 with 1 Axes>"
            ],
            "image/png": "[encoded data removed]"
          },
          "metadata": {
            "needs_background": "light"
          }
        },
        {
          "output_type": "display_data",
          "data": {
            "text/plain": [
              "<Figure size 432x288 with 1 Axes>"
            ],
            "image/png": "[encoded data removed]"
          },
          "metadata": {
            "needs_background": "light"
          }
        },
        {
          "output_type": "display_data",
          "data": {
            "text/plain": [
              "<Figure size 432x288 with 1 Axes>"
            ],
            "image/png": "[encoded data removed]"
          },
          "metadata": {
            "needs_background": "light"
          }
        },
        {
          "output_type": "display_data",
          "data": {
            "text/plain": [
              "<Figure size 432x288 with 1 Axes>"
            ],
            "image/png": "[encoded data removed]"
          },
          "metadata": {
            "needs_background": "light"
          }
        },
        {
          "output_type": "display_data",
          "data": {
            "text/plain": [
              "<Figure size 432x288 with 1 Axes>"
            ],
            "image/png": "[encoded data removed]"
          },
          "metadata": {
            "needs_background": "light"
          }
        },
        {
          "output_type": "display_data",
          "data": {
            "text/plain": [
              "<Figure size 432x288 with 1 Axes>"
            ],
            "image/png": "[encoded data removed]"
          },
          "metadata": {
            "needs_background": "light"
          }
        },
        {
          "output_type": "display_data",
          "data": {
            "text/plain": [
              "<Figure size 432x288 with 1 Axes>"
            ],
            "image/png": "[encoded data removed]"
          },
          "metadata": {
            "needs_background": "light"
          }
        },
        {
          "output_type": "display_data",
          "data": {
            "text/plain": [
              "<Figure size 432x288 with 1 Axes>"
            ],
            "image/png": "[encoded data removed]"
          },
          "metadata": {
            "needs_background": "light"
          }
        },
        {
          "output_type": "display_data",
          "data": {
            "text/plain": [
              "<Figure size 432x288 with 1 Axes>"
            ],
            "image/png": "[encoded data removed]"
          },
          "metadata": {
            "needs_background": "light"
          }
        },
        {
          "output_type": "display_data",
          "data": {
            "text/plain": [
              "<Figure size 432x288 with 1 Axes>"
            ],
            "image/png": "[encoded data removed]"
          },
          "metadata": {
            "needs_background": "light"
          }
        },
        {
          "output_type": "display_data",
          "data": {
            "text/plain": [
              "<Figure size 432x288 with 1 Axes>"
            ],
            "image/png": "[encoded data removed]"
          },
          "metadata": {
            "needs_background": "light"
          }
        }
      ]
    },
    {
      "cell_type": "markdown",
      "source": [
        "###**GERAÇÃO DE TABELAS**"
      ],
      "metadata": {
        "id": "pMo7NQ0auNRr"
      }
    },
    {
      "cell_type": "code",
      "source": [
        "df_resumo"
      ],
      "metadata": {
        "colab": {
          "base_uri": "https://localhost:8080/",
          "height": 519
        },
        "id": "I-PJBpPctnMZ",
        "outputId": "be872abf-91a4-4316-b9dd-60a7647fbfff"
      },
      "execution_count": 385,
      "outputs": [
        {
          "output_type": "execute_result",
          "data": {
            "text/plain": [
              "     Ano      Média  Desvio Padrão  Amostras  Variabilidade (%)\n",
              "0   2000  67.298502      10.174293       199          15.118157\n",
              "1   2001  67.657505      10.092499       202          14.917042\n",
              "2   2002  67.828434      10.042258       199          14.805381\n",
              "3   2003  68.205597       9.998906       199          14.659949\n",
              "4   2004  68.500380       9.816476       200          14.330543\n",
              "5   2005  68.887950       9.671922       200          14.040078\n",
              "6   2006  69.264434       9.446060       201          13.637677\n",
              "7   2007  69.649938       9.241530       201          13.268541\n",
              "8   2008  70.039018       9.020295       201          12.878957\n",
              "9   2009  70.410467       8.851010       200          12.570589\n",
              "10  2010  70.771789       8.644403       200          12.214476\n",
              "11  2011  71.123514       8.404890       201          11.817316\n",
              "12  2012  71.450914       8.235337       200          11.525867\n",
              "13  2013  71.804742       8.073403       201          11.243552\n",
              "14  2014  72.045503       7.866615       201          10.918954"
            ],
            "text/html": [
              "\n",
              "  <div id=\"df-20a45dab-7edd-4992-ac01-b1bc5f17d121\">\n",
              "    <div class=\"colab-df-container\">\n",
              "      <div>\n",
              "<style scoped>\n",
              "    .dataframe tbody tr th:only-of-type {\n",
              "        vertical-align: middle;\n",
              "    }\n",
              "\n",
              "    .dataframe tbody tr th {\n",
              "        vertical-align: top;\n",
              "    }\n",
              "\n",
              "    .dataframe thead th {\n",
              "        text-align: right;\n",
              "    }\n",
              "</style>\n",
              "<table border=\"1\" class=\"dataframe\">\n",
              "  <thead>\n",
              "    <tr style=\"text-align: right;\">\n",
              "      <th></th>\n",
              "      <th>Ano</th>\n",
              "      <th>Média</th>\n",
              "      <th>Desvio Padrão</th>\n",
              "      <th>Amostras</th>\n",
              "      <th>Variabilidade (%)</th>\n",
              "    </tr>\n",
              "  </thead>\n",
              "  <tbody>\n",
              "    <tr>\n",
              "      <th>0</th>\n",
              "      <td>2000</td>\n",
              "      <td>67.298502</td>\n",
              "      <td>10.174293</td>\n",
              "      <td>199</td>\n",
              "      <td>15.118157</td>\n",
              "    </tr>\n",
              "    <tr>\n",
              "      <th>1</th>\n",
              "      <td>2001</td>\n",
              "      <td>67.657505</td>\n",
              "      <td>10.092499</td>\n",
              "      <td>202</td>\n",
              "      <td>14.917042</td>\n",
              "    </tr>\n",
              "    <tr>\n",
              "      <th>2</th>\n",
              "      <td>2002</td>\n",
              "      <td>67.828434</td>\n",
              "      <td>10.042258</td>\n",
              "      <td>199</td>\n",
              "      <td>14.805381</td>\n",
              "    </tr>\n",
              "    <tr>\n",
              "      <th>3</th>\n",
              "      <td>2003</td>\n",
              "      <td>68.205597</td>\n",
              "      <td>9.998906</td>\n",
              "      <td>199</td>\n",
              "      <td>14.659949</td>\n",
              "    </tr>\n",
              "    <tr>\n",
              "      <th>4</th>\n",
              "      <td>2004</td>\n",
              "      <td>68.500380</td>\n",
              "      <td>9.816476</td>\n",
              "      <td>200</td>\n",
              "      <td>14.330543</td>\n",
              "    </tr>\n",
              "    <tr>\n",
              "      <th>5</th>\n",
              "      <td>2005</td>\n",
              "      <td>68.887950</td>\n",
              "      <td>9.671922</td>\n",
              "      <td>200</td>\n",
              "      <td>14.040078</td>\n",
              "    </tr>\n",
              "    <tr>\n",
              "      <th>6</th>\n",
              "      <td>2006</td>\n",
              "      <td>69.264434</td>\n",
              "      <td>9.446060</td>\n",
              "      <td>201</td>\n",
              "      <td>13.637677</td>\n",
              "    </tr>\n",
              "    <tr>\n",
              "      <th>7</th>\n",
              "      <td>2007</td>\n",
              "      <td>69.649938</td>\n",
              "      <td>9.241530</td>\n",
              "      <td>201</td>\n",
              "      <td>13.268541</td>\n",
              "    </tr>\n",
              "    <tr>\n",
              "      <th>8</th>\n",
              "      <td>2008</td>\n",
              "      <td>70.039018</td>\n",
              "      <td>9.020295</td>\n",
              "      <td>201</td>\n",
              "      <td>12.878957</td>\n",
              "    </tr>\n",
              "    <tr>\n",
              "      <th>9</th>\n",
              "      <td>2009</td>\n",
              "      <td>70.410467</td>\n",
              "      <td>8.851010</td>\n",
              "      <td>200</td>\n",
              "      <td>12.570589</td>\n",
              "    </tr>\n",
              "    <tr>\n",
              "      <th>10</th>\n",
              "      <td>2010</td>\n",
              "      <td>70.771789</td>\n",
              "      <td>8.644403</td>\n",
              "      <td>200</td>\n",
              "      <td>12.214476</td>\n",
              "    </tr>\n",
              "    <tr>\n",
              "      <th>11</th>\n",
              "      <td>2011</td>\n",
              "      <td>71.123514</td>\n",
              "      <td>8.404890</td>\n",
              "      <td>201</td>\n",
              "      <td>11.817316</td>\n",
              "    </tr>\n",
              "    <tr>\n",
              "      <th>12</th>\n",
              "      <td>2012</td>\n",
              "      <td>71.450914</td>\n",
              "      <td>8.235337</td>\n",
              "      <td>200</td>\n",
              "      <td>11.525867</td>\n",
              "    </tr>\n",
              "    <tr>\n",
              "      <th>13</th>\n",
              "      <td>2013</td>\n",
              "      <td>71.804742</td>\n",
              "      <td>8.073403</td>\n",
              "      <td>201</td>\n",
              "      <td>11.243552</td>\n",
              "    </tr>\n",
              "    <tr>\n",
              "      <th>14</th>\n",
              "      <td>2014</td>\n",
              "      <td>72.045503</td>\n",
              "      <td>7.866615</td>\n",
              "      <td>201</td>\n",
              "      <td>10.918954</td>\n",
              "    </tr>\n",
              "  </tbody>\n",
              "</table>\n",
              "</div>\n",
              "      <button class=\"colab-df-convert\" onclick=\"convertToInteractive('df-20a45dab-7edd-4992-ac01-b1bc5f17d121')\"\n",
              "              title=\"Convert this dataframe to an interactive table.\"\n",
              "              style=\"display:none;\">\n",
              "        \n",
              "  <svg xmlns=\"http://www.w3.org/2000/svg\" height=\"24px\"viewBox=\"0 0 24 24\"\n",
              "       width=\"24px\">\n",
              "    <path d=\"M0 0h24v24H0V0z\" fill=\"none\"/>\n",
              "    <path d=\"M18.56 5.44l.94 2.06.94-2.06 2.06-.94-2.06-.94-.94-2.06-.94 2.06-2.06.94zm-11 1L8.5 8.5l.94-2.06 2.06-.94-2.06-.94L8.5 2.5l-.94 2.06-2.06.94zm10 10l.94 2.06.94-2.06 2.06-.94-2.06-.94-.94-2.06-.94 2.06-2.06.94z\"/><path d=\"M17.41 7.96l-1.37-1.37c-.4-.4-.92-.59-1.43-.59-.52 0-1.04.2-1.43.59L10.3 9.45l-7.72 7.72c-.78.78-.78 2.05 0 2.83L4 21.41c.39.39.9.59 1.41.59.51 0 1.02-.2 1.41-.59l7.78-7.78 2.81-2.81c.8-.78.8-2.07 0-2.86zM5.41 20L4 18.59l7.72-7.72 1.47 1.35L5.41 20z\"/>\n",
              "  </svg>\n",
              "      </button>\n",
              "      \n",
              "  <style>\n",
              "    .colab-df-container {\n",
              "      display:flex;\n",
              "      flex-wrap:wrap;\n",
              "      gap: 12px;\n",
              "    }\n",
              "\n",
              "    .colab-df-convert {\n",
              "      background-color: #E8F0FE;\n",
              "      border: none;\n",
              "      border-radius: 50%;\n",
              "      cursor: pointer;\n",
              "      display: none;\n",
              "      fill: #1967D2;\n",
              "      height: 32px;\n",
              "      padding: 0 0 0 0;\n",
              "      width: 32px;\n",
              "    }\n",
              "\n",
              "    .colab-df-convert:hover {\n",
              "      background-color: #E2EBFA;\n",
              "      box-shadow: 0px 1px 2px rgba(60, 64, 67, 0.3), 0px 1px 3px 1px rgba(60, 64, 67, 0.15);\n",
              "      fill: #174EA6;\n",
              "    }\n",
              "\n",
              "    [theme=dark] .colab-df-convert {\n",
              "      background-color: #3B4455;\n",
              "      fill: #D2E3FC;\n",
              "    }\n",
              "\n",
              "    [theme=dark] .colab-df-convert:hover {\n",
              "      background-color: #434B5C;\n",
              "      box-shadow: 0px 1px 3px 1px rgba(0, 0, 0, 0.15);\n",
              "      filter: drop-shadow(0px 1px 2px rgba(0, 0, 0, 0.3));\n",
              "      fill: #FFFFFF;\n",
              "    }\n",
              "  </style>\n",
              "\n",
              "      <script>\n",
              "        const buttonEl =\n",
              "          document.querySelector('#df-20a45dab-7edd-4992-ac01-b1bc5f17d121 button.colab-df-convert');\n",
              "        buttonEl.style.display =\n",
              "          google.colab.kernel.accessAllowed ? 'block' : 'none';\n",
              "\n",
              "        async function convertToInteractive(key) {\n",
              "          const element = document.querySelector('#df-20a45dab-7edd-4992-ac01-b1bc5f17d121');\n",
              "          const dataTable =\n",
              "            await google.colab.kernel.invokeFunction('convertToInteractive',\n",
              "                                                     [key], {});\n",
              "          if (!dataTable) return;\n",
              "\n",
              "          const docLinkHtml = 'Like what you see? Visit the ' +\n",
              "            '<a target=\"_blank\" href=https://colab.research.google.com/notebooks/data_table.ipynb>data table notebook</a>'\n",
              "            + ' to learn more about interactive tables.';\n",
              "          element.innerHTML = '';\n",
              "          dataTable['output_type'] = 'display_data';\n",
              "          await google.colab.output.renderOutput(dataTable, element);\n",
              "          const docLink = document.createElement('div');\n",
              "          docLink.innerHTML = docLinkHtml;\n",
              "          element.appendChild(docLink);\n",
              "        }\n",
              "      </script>\n",
              "    </div>\n",
              "  </div>\n",
              "  "
            ]
          },
          "metadata": {},
          "execution_count": 385
        }
      ]
    },
    {
      "cell_type": "code",
      "source": [
        "df_resumo.to_excel(bd_geral + \"Planilhas/resumo.xlsx\")  "
      ],
      "metadata": {
        "id": "rg-yxqv5LBkV"
      },
      "execution_count": 386,
      "outputs": []
    },
    {
      "cell_type": "markdown",
      "source": [
        "## **FINALIZAÇÃO DO SCRIPT**"
      ],
      "metadata": {
        "id": "gnuaEIZQuDQn"
      }
    },
    {
      "cell_type": "code",
      "source": [
        "# Cronometra o tempo de execução do programa\n",
        "\n",
        "end_script = time.time()\n",
        "print('Tempo do script {:.2f} segundos'.format((end_script - start_script)))"
      ],
      "metadata": {
        "colab": {
          "base_uri": "https://localhost:8080/"
        },
        "id": "kuk5e7LhtikF",
        "outputId": "329bc13d-bdd8-44d2-f047-714d4edde1cd"
      },
      "execution_count": 387,
      "outputs": [
        {
          "output_type": "stream",
          "name": "stdout",
          "text": [
            "Tempo do script 9.84 segundos\n"
          ]
        }
      ]
    }
  ]
}